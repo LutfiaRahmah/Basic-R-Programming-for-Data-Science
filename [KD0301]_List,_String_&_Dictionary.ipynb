{
  "nbformat": 4,
  "nbformat_minor": 0,
  "metadata": {
    "colab": {
      "name": "[KD0301]_List,_String_&_Dictionary.ipynb",
      "provenance": [],
      "collapsed_sections": [
        "Y0cxNwSpKqLf",
        "SXjjDvqYwPWD"
      ],
      "toc_visible": true,
      "include_colab_link": true
    },
    "kernelspec": {
      "name": "python3",
      "display_name": "Python 3"
    }
  },
  "cells": [
    {
      "cell_type": "markdown",
      "metadata": {
        "id": "view-in-github",
        "colab_type": "text"
      },
      "source": [
        "<a href=\"https://colab.research.google.com/github/LutfiaRahmah/Basic-R-Programming-for-Data-Science/blob/main/%5BKD0301%5D_List%2C_String_%26_Dictionary.ipynb\" target=\"_parent\"><img src=\"https://colab.research.google.com/assets/colab-badge.svg\" alt=\"Open In Colab\"/></a>"
      ]
    },
    {
      "cell_type": "markdown",
      "metadata": {
        "id": "z4A1mfUYu7qg"
      },
      "source": [
        "![alt text](https://drive.google.com/uc?id=1Jnmc3tPdh1jxyNwURPKEqzpM_qdEwaJc\n",
        ")"
      ]
    },
    {
      "cell_type": "markdown",
      "metadata": {
        "id": "MtoDiMzGwXiA"
      },
      "source": [
        "Assalamualaikum warahmatullahi wabarakatuh.\n",
        "\n",
        "***Robbi Zidni Ilma Warzuqni Fahma***\n",
        "\n",
        "Semoga Allah memberi kemudahan untuk kita memperoleh ilmu yang bermanfaat.\n",
        "\n",
        "Ini adalah notebook yang disusun untuk program **Kelas Dasar Pejuang Data 2.0** .\n",
        "\n",
        "Ini adalah **Notebook, List, String, & Dictionary Pada Python**:\n",
        "\n",
        "## **Hasil Yang Ingin Dicapai**\n",
        "1. Memahami List Pada Python\n",
        "2. Mengenal dan memahami method-method pada List Python\n",
        "3. Memahami String Pada Python\n",
        "4. Mengenal dan memahami method-method pada String Python\n",
        "5. Memahami Dictionary Pada Python\n",
        "6. Mengenal dan memahami method-method pada Dictionary Python\n",
        "\n",
        "\n",
        "\n"
      ]
    },
    {
      "cell_type": "markdown",
      "metadata": {
        "id": "Y0cxNwSpKqLf"
      },
      "source": [
        "# **List Pada Python**\n",
        "List adalah jenis kumpulan data terurut (ordered sequence), dan merupakan salah satu variabel yang sering digunakan pada Python. Serupa, namun tak sama dengan array pada bahasa pemrograman lainnya. Bedanya, elemen List pada Python tidak harus memiliki tipe data yang sama. Mendeklarasikan List cukup mudah dengan kurung siku dan elemen yang dipisahkan dengan koma. \n"
      ]
    },
    {
      "cell_type": "markdown",
      "metadata": {
        "id": "HBL8Vey2Pbf5"
      },
      "source": [
        "## Membuat List"
      ]
    },
    {
      "cell_type": "code",
      "metadata": {
        "id": "9pOtKzstLp3_",
        "colab": {
          "base_uri": "https://localhost:8080/"
        },
        "outputId": "42aab3d1-4943-46fd-cf22-e9e40f946ee5"
      },
      "source": [
        "matkul = [\"fuzzy\", \"pdp\", \"metnum\" , \"graf\"]\n",
        "print(matkul)"
      ],
      "execution_count": 7,
      "outputs": [
        {
          "output_type": "stream",
          "text": [
            "['fuzzy', 'pdp', 'metnum', 'graf']\n"
          ],
          "name": "stdout"
        }
      ]
    },
    {
      "cell_type": "markdown",
      "metadata": {
        "id": "PbSXryBkPdYT"
      },
      "source": [
        "## Mengakses elemen List"
      ]
    },
    {
      "cell_type": "markdown",
      "metadata": {
        "id": "15RUf2ihMM-Z"
      },
      "source": [
        "Menampilkan elemen\n",
        "caranya dengan menggunakan fungsi print"
      ]
    },
    {
      "cell_type": "code",
      "metadata": {
        "id": "Hp7Maj7rMf01",
        "colab": {
          "base_uri": "https://localhost:8080/"
        },
        "outputId": "aa705e0e-9f4e-4061-ba0d-37038a42d256"
      },
      "source": [
        "matkul = [\"fuzzy\", \"pdp\", \"metnum\" , \"graph\"]\n",
        "print(matkul[2])\n",
        "print(matkul[2:])\n",
        "print(matkul[0:3:2])\n",
        "print(matkul[-2])\n",
        "print(matkul[-4:-1])"
      ],
      "execution_count": 8,
      "outputs": [
        {
          "output_type": "stream",
          "text": [
            "metnum\n",
            "['metnum', 'graph']\n",
            "['fuzzy', 'metnum']\n",
            "metnum\n",
            "['fuzzy', 'pdp', 'metnum']\n"
          ],
          "name": "stdout"
        }
      ]
    },
    {
      "cell_type": "markdown",
      "metadata": {
        "id": "v-KS7vuvPjYn"
      },
      "source": [
        "## Mengubah elemen List"
      ]
    },
    {
      "cell_type": "markdown",
      "metadata": {
        "id": "RSAg61A8a2qG"
      },
      "source": [
        "cara mengubah elemen dalam list"
      ]
    },
    {
      "cell_type": "code",
      "metadata": {
        "id": "UvoInRZ-bBWR",
        "colab": {
          "base_uri": "https://localhost:8080/"
        },
        "outputId": "c654c934-7072-489e-e910-7fab923f304e"
      },
      "source": [
        "matkul = [\"fuzzy\", \"pdp\", \"metnum\" , \"graf\" , \"sisdim\"]\n",
        "matkul[3] = \"aktuaria\"\n",
        "print(matkul)"
      ],
      "execution_count": 9,
      "outputs": [
        {
          "output_type": "stream",
          "text": [
            "['fuzzy', 'pdp', 'metnum', 'aktuaria', 'sisdim']\n"
          ],
          "name": "stdout"
        }
      ]
    },
    {
      "cell_type": "markdown",
      "metadata": {
        "id": "qgQOa6EBPmGU"
      },
      "source": [
        "## Looping di dalam List"
      ]
    },
    {
      "cell_type": "markdown",
      "metadata": {
        "id": "cHHmiQv4bY3C"
      },
      "source": [
        "looping pada list"
      ]
    },
    {
      "cell_type": "code",
      "metadata": {
        "id": "m-2tgYqUbfP3",
        "colab": {
          "base_uri": "https://localhost:8080/"
        },
        "outputId": "ec6f96f6-8fb6-4aa5-8d51-d8f5f9a89c1d"
      },
      "source": [
        "matkul = [\"fuzzy\", \"pdp\", \"metnum\" , \"graf\"]\n",
        "\n",
        "for x in matkul:\n",
        "  print(x)"
      ],
      "execution_count": 10,
      "outputs": [
        {
          "output_type": "stream",
          "text": [
            "fuzzy\n",
            "pdp\n",
            "metnum\n",
            "graf\n"
          ],
          "name": "stdout"
        }
      ]
    },
    {
      "cell_type": "markdown",
      "metadata": {
        "id": "1O4HrdbWPpm4"
      },
      "source": [
        "## Cek elemen pada List"
      ]
    },
    {
      "cell_type": "markdown",
      "metadata": {
        "id": "cv0aU1cEbvOd"
      },
      "source": [
        "cara mengecek apakah suatu elemen berada dalam list"
      ]
    },
    {
      "cell_type": "code",
      "metadata": {
        "id": "GNNA1lRkcAmT",
        "colab": {
          "base_uri": "https://localhost:8080/"
        },
        "outputId": "0dad14ce-2c8e-4aa8-b4b8-759d7f45a890"
      },
      "source": [
        "matkul = [\"fuzzy\", \"pdp\", \"metnum\" , \"graf\"]\n",
        "if \"fuzzy\" in matkul:\n",
        "  print('fuzzy termasuk matkul')"
      ],
      "execution_count": 11,
      "outputs": [
        {
          "output_type": "stream",
          "text": [
            "fuzzy termasuk matkul\n"
          ],
          "name": "stdout"
        }
      ]
    },
    {
      "cell_type": "markdown",
      "metadata": {
        "id": "uWchVoGNPsvh"
      },
      "source": [
        "## Menghitung jumlah elemen List"
      ]
    },
    {
      "cell_type": "markdown",
      "metadata": {
        "id": "U6CA-4q8cQfC"
      },
      "source": [
        "cara mengetahui jumlah elemen dalam list"
      ]
    },
    {
      "cell_type": "code",
      "metadata": {
        "id": "1ohkG60acYxq",
        "colab": {
          "base_uri": "https://localhost:8080/"
        },
        "outputId": "9c52b5db-45f9-4f2e-85cb-2f59033c214d"
      },
      "source": [
        "matkul = [\"fuzzy\", \"pdp\", \"metnum\" , \"graf\"]\n",
        "print(len(matkul))"
      ],
      "execution_count": 12,
      "outputs": [
        {
          "output_type": "stream",
          "text": [
            "4\n"
          ],
          "name": "stdout"
        }
      ]
    },
    {
      "cell_type": "markdown",
      "metadata": {
        "id": "SXjjDvqYwPWD"
      },
      "source": [
        "# **Berbagai Method untuk List pada Python**"
      ]
    },
    {
      "cell_type": "markdown",
      "metadata": {
        "id": "GW_xJLbPOaPm"
      },
      "source": [
        "## Menambah elemen List"
      ]
    },
    {
      "cell_type": "markdown",
      "metadata": {
        "id": "O85URks5cmkj"
      },
      "source": [
        "cara menambahkan elemen dalam list\n",
        "ada 2 cara untuk menambahkan elemen pada list, yaitu;\n",
        "1. menggunakan metode append()\n",
        "2. menggunakan metode insert()\n"
      ]
    },
    {
      "cell_type": "code",
      "metadata": {
        "id": "nVJEDf96dOfe",
        "colab": {
          "base_uri": "https://localhost:8080/"
        },
        "outputId": "68dc7da0-3bb5-4142-e6b5-e60a1bbb9af6"
      },
      "source": [
        "#metode append : menambahkan elemen pada baris terakhir\n",
        "matkul = [\"fuzzy\", \"pdp\", \"metnum\" , \"graf\"]\n",
        "matkul.append(\"anreg\")\n",
        "print(matkul)"
      ],
      "execution_count": 13,
      "outputs": [
        {
          "output_type": "stream",
          "text": [
            "['fuzzy', 'pdp', 'metnum', 'graf', 'anreg']\n"
          ],
          "name": "stdout"
        }
      ]
    },
    {
      "cell_type": "code",
      "metadata": {
        "id": "6XrL3bqddhRt",
        "colab": {
          "base_uri": "https://localhost:8080/"
        },
        "outputId": "c82e0d9c-e7e7-48d9-bef8-d23b227c61a7"
      },
      "source": [
        "#metode insert : memasukkan elemen pada baris tertentu\n",
        "matkul = [\"fuzzy\", \"pdp\", \"metnum\" , \"graf\"]\n",
        "matkul.insert(1, 'anriil')\n",
        "print(matkul)"
      ],
      "execution_count": 14,
      "outputs": [
        {
          "output_type": "stream",
          "text": [
            "['fuzzy', 'anriil', 'pdp', 'metnum', 'graf']\n"
          ],
          "name": "stdout"
        }
      ]
    },
    {
      "cell_type": "markdown",
      "metadata": {
        "id": "whHs8DMhOeyP"
      },
      "source": [
        "## Menghapus elemen List"
      ]
    },
    {
      "cell_type": "markdown",
      "metadata": {
        "id": "QK9-9GhIeE4u"
      },
      "source": [
        "menghapus elemen dalam list\n",
        "ada beberapa cara untuk menghapus elemen\n",
        "1. menggunakan keyword del\n",
        "2. menggunakan metode remove()\n",
        "3. menggunakan metode pop()\n",
        "4. menggunakan metode clear()"
      ]
    },
    {
      "cell_type": "code",
      "metadata": {
        "id": "b9dTvzNrewLA",
        "colab": {
          "base_uri": "https://localhost:8080/"
        },
        "outputId": "c5e65c6d-4419-456b-9349-09c5b4d1635b"
      },
      "source": [
        "#menggunakan keyword del,(bukan hanya bisa menghapus elemen tapi bisa juga untuk mnghapus list)\n",
        "matkul = [\"fuzzy\", \"pdp\", \"metnum\" , \"graf\"]\n",
        "del matkul[3]\n",
        "print(matkul)\n",
        "matkul1 = [\"fuzzy\", \"pdp\", \"metnum\" , \"graf\"]\n",
        "del matkul"
      ],
      "execution_count": 15,
      "outputs": [
        {
          "output_type": "stream",
          "text": [
            "['fuzzy', 'pdp', 'metnum']\n"
          ],
          "name": "stdout"
        }
      ]
    },
    {
      "cell_type": "code",
      "metadata": {
        "id": "GNVgWlzAe06_",
        "colab": {
          "base_uri": "https://localhost:8080/"
        },
        "outputId": "a68826bf-2016-47ed-e6d6-d2047a00c6d0"
      },
      "source": [
        "#menggunakan metode remove(): menggunakan remove() harus menyebutkan nama elemennya langsung\n",
        "matkul = [\"fuzzy\", \"pdp\", \"metnum\" , \"graf\"]\n",
        "matkul.remove(\"fuzzy\")\n",
        "print(matkul)\n"
      ],
      "execution_count": 16,
      "outputs": [
        {
          "output_type": "stream",
          "text": [
            "['pdp', 'metnum', 'graf']\n"
          ],
          "name": "stdout"
        }
      ]
    },
    {
      "cell_type": "code",
      "metadata": {
        "id": "R3V2IapIf76i",
        "colab": {
          "base_uri": "https://localhost:8080/"
        },
        "outputId": "db35a40f-9be0-4240-8846-546747fca9a1"
      },
      "source": [
        "#menggunakan metode pop(a): menghapus elemen baris ke-a atau baris terakhir\n",
        "matkul = [\"fuzzy\", \"pdp\", \"metnum\" , \"graf\"]\n",
        "matkul.pop(2)\n",
        "matkul.pop()\n",
        "print(matkul) "
      ],
      "execution_count": 17,
      "outputs": [
        {
          "output_type": "stream",
          "text": [
            "['fuzzy', 'pdp']\n"
          ],
          "name": "stdout"
        }
      ]
    },
    {
      "cell_type": "code",
      "metadata": {
        "id": "IYrhbP_wga_Q",
        "colab": {
          "base_uri": "https://localhost:8080/"
        },
        "outputId": "6b4b0a4a-fc0c-4ca8-8545-4484b5443814"
      },
      "source": [
        "#menggunakan metode clear(): menghapus seluruh elemen pada list\n",
        "matkul = [\"fuzzy\", \"pdp\", \"metnum\" , \"graf\"]\n",
        "matkul.clear()\n",
        "print(matkul)"
      ],
      "execution_count": 18,
      "outputs": [
        {
          "output_type": "stream",
          "text": [
            "[]\n"
          ],
          "name": "stdout"
        }
      ]
    },
    {
      "cell_type": "markdown",
      "metadata": {
        "id": "Yhka3x5-Oht-"
      },
      "source": [
        "## Mengkopi List"
      ]
    },
    {
      "cell_type": "markdown",
      "metadata": {
        "id": "uIB3DvQYgrJ-"
      },
      "source": [
        "copy list\n",
        "ada 2 cara untuk copy list\n",
        "1. menggunakan metode copy()\n",
        "2. menggunakan metode list()"
      ]
    },
    {
      "cell_type": "code",
      "metadata": {
        "id": "oaTesw-zhFOt",
        "colab": {
          "base_uri": "https://localhost:8080/"
        },
        "outputId": "1ed1a6af-1ca7-402e-921f-53ebb42eaa27"
      },
      "source": [
        "#menggunakan metode copy()\n",
        "matkul = [\"fuzzy\", \"pdp\", \"metnum\" , \"graf\"]\n",
        "matlah = matkul.copy()\n",
        "print(matlah)"
      ],
      "execution_count": 19,
      "outputs": [
        {
          "output_type": "stream",
          "text": [
            "['fuzzy', 'pdp', 'metnum', 'graf']\n"
          ],
          "name": "stdout"
        }
      ]
    },
    {
      "cell_type": "code",
      "metadata": {
        "id": "TFz6YhanhWS9",
        "colab": {
          "base_uri": "https://localhost:8080/"
        },
        "outputId": "89871ad4-0298-4c8c-c280-c8f16be64aac"
      },
      "source": [
        "#menggunakan metode list()\n",
        "matkul = [\"fuzzy\", \"pdp\", \"metnum\" , \"graf\"]\n",
        "matlah = list(matkul)\n",
        "print(matlah)"
      ],
      "execution_count": 20,
      "outputs": [
        {
          "output_type": "stream",
          "text": [
            "['fuzzy', 'pdp', 'metnum', 'graf']\n"
          ],
          "name": "stdout"
        }
      ]
    },
    {
      "cell_type": "markdown",
      "metadata": {
        "id": "OGdeaa29OpbH"
      },
      "source": [
        "## Menggabung List"
      ]
    },
    {
      "cell_type": "markdown",
      "metadata": {
        "id": "yPxC06ewhjnC"
      },
      "source": [
        "cara menggabungkan 2 list\n",
        "1. menggunakan tanda +\n",
        "2. menggunakan metode append()\n",
        "3. menggunakan metode extend()"
      ]
    },
    {
      "cell_type": "code",
      "metadata": {
        "id": "JGECFOskh8n8",
        "colab": {
          "base_uri": "https://localhost:8080/"
        },
        "outputId": "36b880f0-605d-4d97-9036-8a1886959d5c"
      },
      "source": [
        "#menggnakan tanda +\n",
        "matkul = [\"fuzzy\", \"pdp\", \"metnum\" , \"graf\"]\n",
        "angka = [1, 2, 3, 4]\n",
        "\n",
        "hasil = matkul + angka\n",
        "print(hasil)"
      ],
      "execution_count": 21,
      "outputs": [
        {
          "output_type": "stream",
          "text": [
            "['fuzzy', 'pdp', 'metnum', 'graf', 1, 2, 3, 4]\n"
          ],
          "name": "stdout"
        }
      ]
    },
    {
      "cell_type": "code",
      "metadata": {
        "id": "EhwfXTCuiL1U",
        "colab": {
          "base_uri": "https://localhost:8080/"
        },
        "outputId": "6f89bd7e-cabe-4c8f-c6db-c4c587ae90b4"
      },
      "source": [
        "#menggunakan metode append\n",
        "matkul = [\"fuzzy\", \"pdp\", \"metnum\" , \"graf\"]\n",
        "angka = [1, 2, 3, 4]\n",
        "\n",
        "for x in angka:\n",
        "  matkul.append(x)\n",
        "\n",
        "print(matkul)"
      ],
      "execution_count": 22,
      "outputs": [
        {
          "output_type": "stream",
          "text": [
            "['fuzzy', 'pdp', 'metnum', 'graf', 1, 2, 3, 4]\n"
          ],
          "name": "stdout"
        }
      ]
    },
    {
      "cell_type": "code",
      "metadata": {
        "id": "JW9IRHnYii9F",
        "colab": {
          "base_uri": "https://localhost:8080/"
        },
        "outputId": "e889bd8d-d822-4e47-bbf4-0a6d2490e2ae"
      },
      "source": [
        "#menggunakan metode extend\n",
        "matkul = [\"fuzzy\", \"pdp\", \"metnum\" , \"graf\"]\n",
        "angka = [1, 2, 3, 4]\n",
        "\n",
        "matkul.extend(angka)\n",
        "print(matkul)"
      ],
      "execution_count": 23,
      "outputs": [
        {
          "output_type": "stream",
          "text": [
            "['fuzzy', 'pdp', 'metnum', 'graf', 1, 2, 3, 4]\n"
          ],
          "name": "stdout"
        }
      ]
    },
    {
      "cell_type": "markdown",
      "metadata": {
        "id": "K-85e962443K"
      },
      "source": [
        "# **String pada Python**\n"
      ]
    },
    {
      "cell_type": "markdown",
      "metadata": {
        "id": "3U8ND-Ft5ZII"
      },
      "source": [
        "## *String Literals*\n",
        "####String literal dalam python diapit oleh tanda kutip tunggal, atau tanda kutip ganda\n",
        "####'Buku' = \"Buku\" dalam python ini sama saja\n",
        "####Anda dapat menampilkan literal string dengan fungsi print ():\n"
      ]
    },
    {
      "cell_type": "code",
      "metadata": {
        "id": "StGvS-Ey1bLX",
        "colab": {
          "base_uri": "https://localhost:8080/"
        },
        "outputId": "881ac132-2a51-460d-9b3c-94dfe591d580"
      },
      "source": [
        "#Contoh :\n",
        "print(\"Hello\")\n",
        "print('Hello')"
      ],
      "execution_count": 24,
      "outputs": [
        {
          "output_type": "stream",
          "text": [
            "Hello\n",
            "Hello\n"
          ],
          "name": "stdout"
        }
      ]
    },
    {
      "cell_type": "markdown",
      "metadata": {
        "id": "-aatCBuO95wP"
      },
      "source": [
        "Expected output:\n",
        "```\n",
        "Hello\n",
        "Hello\n",
        "```"
      ]
    },
    {
      "cell_type": "code",
      "metadata": {
        "id": "E7xhLyI_D5dE",
        "colab": {
          "base_uri": "https://localhost:8080/"
        },
        "outputId": "8c1e2387-57d2-43fd-ce2b-bdedfbd89a61"
      },
      "source": [
        "#Mulai Program mu....^_^\n",
        "print(\"Assalamualaikum\")\n",
        "print('Assalamualaikum')"
      ],
      "execution_count": 27,
      "outputs": [
        {
          "output_type": "stream",
          "text": [
            "Assalamualaikum\n",
            "Assalamualaikum\n"
          ],
          "name": "stdout"
        }
      ]
    },
    {
      "cell_type": "markdown",
      "metadata": {
        "id": "uW2Ii3iL9Fbb"
      },
      "source": [
        "## *Assign String to a Variable*\n",
        "####Menetapkan string ke variabel dilakukan dengan nama variabel diikuti dengan tanda sama dengan dan stringnya:"
      ]
    },
    {
      "cell_type": "code",
      "metadata": {
        "id": "HPvNIIOv93Uj",
        "colab": {
          "base_uri": "https://localhost:8080/"
        },
        "outputId": "a043ef6f-47bb-4a4c-d10c-6c8b890bd964"
      },
      "source": [
        "#Contoh\n",
        "a = \"Hello\"\n",
        "print(a)"
      ],
      "execution_count": 28,
      "outputs": [
        {
          "output_type": "stream",
          "text": [
            "Hello\n"
          ],
          "name": "stdout"
        }
      ]
    },
    {
      "cell_type": "markdown",
      "metadata": {
        "id": "Rgf7Zdk2-cma"
      },
      "source": [
        "Expected output:\n",
        "```\n",
        "Hello\n",
        "```\n",
        "Penjelasan :\n",
        "a adalah variabel\n",
        "kemudian diikuti tanda samadengan =\n",
        "kemudian masukkan nilai berupa string yaitu \"Hello\""
      ]
    },
    {
      "cell_type": "code",
      "metadata": {
        "id": "XnW_XFWCEU_Y",
        "colab": {
          "base_uri": "https://localhost:8080/"
        },
        "outputId": "03b6e593-ccbd-4b87-f9d3-40f1fa7b943b"
      },
      "source": [
        "#Mulai Program mu....^_^\n",
        "a = \"Assalamualaikum\"\n",
        "print(a)"
      ],
      "execution_count": 29,
      "outputs": [
        {
          "output_type": "stream",
          "text": [
            "Assalamualaikum\n"
          ],
          "name": "stdout"
        }
      ]
    },
    {
      "cell_type": "markdown",
      "metadata": {
        "id": "eYAdwdwp_o_M"
      },
      "source": [
        "## *Multiline Strings*\n",
        "####Kita dapat menetapkan string multiline ke variabel dengan menggunakan tiga tanda kutip:"
      ]
    },
    {
      "cell_type": "code",
      "metadata": {
        "id": "KqKBqkEFAv-e",
        "colab": {
          "base_uri": "https://localhost:8080/"
        },
        "outputId": "40748270-3f7e-4e1c-b76d-e086795f9768"
      },
      "source": [
        "#Contoh 1\n",
        "a = '''PSDS adalah kelompok studi Data Science\n",
        "yang dibentuk oleh mahasiswa\n",
        "program studi Matematika.'''\n",
        "print(a)"
      ],
      "execution_count": 30,
      "outputs": [
        {
          "output_type": "stream",
          "text": [
            "PSDS adalah kelompok studi Data Science\n",
            "yang dibentuk oleh mahasiswa\n",
            "program studi Matematika.\n"
          ],
          "name": "stdout"
        }
      ]
    },
    {
      "cell_type": "markdown",
      "metadata": {
        "id": "HoKPF7srDzRN"
      },
      "source": [
        "Expected output:\n",
        "```\n",
        "PSDS adalah kelompok studi Data Science\n",
        "yang dibentuk oleh mahasiswa\n",
        "program studi Matematika.\n",
        "\n",
        "```"
      ]
    },
    {
      "cell_type": "code",
      "metadata": {
        "id": "VowpERdPEsQJ",
        "colab": {
          "base_uri": "https://localhost:8080/"
        },
        "outputId": "8db35032-99dd-46da-f438-81433c4c6d62"
      },
      "source": [
        "#Mulai Program mu....^_^\n",
        "b = '''Kuasa berada itu di mana-mana. Strategi kuasa terjadi di mana-mana. Di mana ada susunan, aturan, sistem, regulasi maka manusia mengalami relasi tertentu satu sama lain.\n",
        "Kuasa terakumulasi dengan pengetahuan, dan pengetahuan selalu punya implikasi kuasa.'''\n",
        "print(b)\n"
      ],
      "execution_count": 31,
      "outputs": [
        {
          "output_type": "stream",
          "text": [
            "Kuasa berada itu di mana-mana. Strategi kuasa terjadi di mana-mana. Di mana ada susunan, aturan, sistem, regulasi maka manusia mengalami relasi tertentu satu sama lain.\n",
            "Kuasa terakumulasi dengan pengetahuan, dan pengetahuan selalu punya implikasi kuasa.\n"
          ],
          "name": "stdout"
        }
      ]
    },
    {
      "cell_type": "markdown",
      "metadata": {
        "id": "lTmDSoYcB0Gb"
      },
      "source": [
        "Kita bisa juga menggunakan double tanda kutip, misal : ```\"\"\"stringnya\"\"\"```"
      ]
    },
    {
      "cell_type": "code",
      "metadata": {
        "id": "SJRPjO1PBNZF",
        "colab": {
          "base_uri": "https://localhost:8080/"
        },
        "outputId": "1f62af05-ef78-4d9b-9052-604aa8ee3483"
      },
      "source": [
        "#Contoh 2\n",
        "a = \"\"\"PSDS adalah kelompok studi Data Science\n",
        "yang dibentuk oleh mahasiswa\n",
        "program studi Matematika.\"\"\"\n",
        "print(a)\n",
        "#Hasilnya, jeda baris disisipkan pada posisi yang sama seperti pada kode."
      ],
      "execution_count": 32,
      "outputs": [
        {
          "output_type": "stream",
          "text": [
            "PSDS adalah kelompok studi Data Science\n",
            "yang dibentuk oleh mahasiswa\n",
            "program studi Matematika.\n"
          ],
          "name": "stdout"
        }
      ]
    },
    {
      "cell_type": "markdown",
      "metadata": {
        "id": "Sy-1uZquD-02"
      },
      "source": [
        "Expected output:\n",
        "```\n",
        "PSDS adalah kelompok studi Data Science\n",
        "yang dibentuk oleh mahasiswa\n",
        "program studi Matematika.\n",
        "```\n",
        "\n",
        "Penjelasan : jeda baris disisipkan pada posisi yang sama seperti pada kode."
      ]
    },
    {
      "cell_type": "code",
      "metadata": {
        "id": "-vth3zQNFEZ3",
        "colab": {
          "base_uri": "https://localhost:8080/"
        },
        "outputId": "7b102829-8fd3-4c8e-cd05-e164f52fb11c"
      },
      "source": [
        "#Mulai Program mu....^_^\n",
        "b = \"\"\"Kuasa berada itu di mana-mana. Strategi kuasa terjadi di mana-mana. Di mana ada susunan, aturan, sistem, regulasi maka manusia mengalami relasi tertentu satu sama lain.\n",
        "Kuasa terakumulasi dengan pengetahuan, dan pengetahuan selalu punya implikasi kuasa.\"\"\"\n",
        "print(b)"
      ],
      "execution_count": 33,
      "outputs": [
        {
          "output_type": "stream",
          "text": [
            "Kuasa berada itu di mana-mana. Strategi kuasa terjadi di mana-mana. Di mana ada susunan, aturan, sistem, regulasi maka manusia mengalami relasi tertentu satu sama lain.\n",
            "Kuasa terakumulasi dengan pengetahuan, dan pengetahuan selalu punya implikasi kuasa.\n"
          ],
          "name": "stdout"
        }
      ]
    },
    {
      "cell_type": "markdown",
      "metadata": {
        "id": "XQLfbQFQEVmu"
      },
      "source": [
        "## *Strings are Arrays*\n",
        "####Seperti banyak bahasa pemrograman populer lainnya, string dalam Python adalah array byte yang mewakili karakter unicode.\n",
        "####Namun, Python tidak memiliki tipe data karakter, satu karakter hanyalah string dengan panjang 1\n",
        "####Tanda kurung siku dapat digunakan untuk mengakses elemen string."
      ]
    },
    {
      "cell_type": "code",
      "metadata": {
        "id": "VqY0-8FUCPBf",
        "colab": {
          "base_uri": "https://localhost:8080/"
        },
        "outputId": "6e364354-90ee-4b9d-91af-1ccb02cbdb89"
      },
      "source": [
        "#Contoh\n",
        "a = \"Hello, World!\"\n",
        "print(a[1])"
      ],
      "execution_count": 34,
      "outputs": [
        {
          "output_type": "stream",
          "text": [
            "e\n"
          ],
          "name": "stdout"
        }
      ]
    },
    {
      "cell_type": "markdown",
      "metadata": {
        "id": "nPN1G_m9GhQZ"
      },
      "source": [
        "Expected output:\n",
        "```\n",
        "e\n",
        "```\n",
        "Penjelasan : Dapatkan karakter di posisi 1 (ingat bahwa karakter pertama memiliki posisi 0):\n",
        "\n"
      ]
    },
    {
      "cell_type": "code",
      "metadata": {
        "id": "8t036hewYZzW",
        "colab": {
          "base_uri": "https://localhost:8080/"
        },
        "outputId": "f612f683-8937-4043-a304-1cfa18628a8a"
      },
      "source": [
        "#Mulai Program mu....^_^\n",
        "b = \"Assalamualaikum addunya\"\n",
        "print(b[1])"
      ],
      "execution_count": 35,
      "outputs": [
        {
          "output_type": "stream",
          "text": [
            "s\n"
          ],
          "name": "stdout"
        }
      ]
    },
    {
      "cell_type": "markdown",
      "metadata": {
        "id": "vagnEyfWHADQ"
      },
      "source": [
        "## *Slicing*\n",
        "####Anda dapat mengembalikan berbagai karakter dengan menggunakan sintaksis slice.\n",
        "####Tentukan indeks awal dan indeks akhir, dipisahkan oleh titik dua, untuk mengembalikan bagian dari string."
      ]
    },
    {
      "cell_type": "code",
      "metadata": {
        "id": "kvukrxjxIN1s",
        "colab": {
          "base_uri": "https://localhost:8080/"
        },
        "outputId": "3f2b426a-fa3e-42b9-8fe5-285797c17ecb"
      },
      "source": [
        "#Contoh :\n",
        "b = \"Hello, World!\"\n",
        "print(b[2:5])\n",
        "#Dapatkan karakter dari posisi 2 ke posisi 5 (tidak termasuk):"
      ],
      "execution_count": 36,
      "outputs": [
        {
          "output_type": "stream",
          "text": [
            "llo\n"
          ],
          "name": "stdout"
        }
      ]
    },
    {
      "cell_type": "markdown",
      "metadata": {
        "id": "tvz7WZHdKQgH"
      },
      "source": [
        "Expected output:\n",
        "```\n",
        "llo\n",
        "```"
      ]
    },
    {
      "cell_type": "code",
      "metadata": {
        "id": "M4geTGseYgmQ",
        "colab": {
          "base_uri": "https://localhost:8080/"
        },
        "outputId": "d3269a31-275e-40cb-dbaa-4e6d6dc533a9"
      },
      "source": [
        "#Mulai Program mu....^_^\n",
        "a = \"assalamualaikum addunya\"\n",
        "print(a[2:5])\n"
      ],
      "execution_count": 37,
      "outputs": [
        {
          "output_type": "stream",
          "text": [
            "sal\n"
          ],
          "name": "stdout"
        }
      ]
    },
    {
      "cell_type": "markdown",
      "metadata": {
        "id": "2LQPMzQAKilR"
      },
      "source": [
        "## *Negative Indexing*\n",
        "Gunakan indeks negatif untuk memulai potongan dari ujung string:"
      ]
    },
    {
      "cell_type": "code",
      "metadata": {
        "id": "n2yD3tJ4LG93",
        "colab": {
          "base_uri": "https://localhost:8080/"
        },
        "outputId": "a5035bc5-85ab-44ad-bc2c-d41b69d742ec"
      },
      "source": [
        "#Contoh\n",
        "b = \"Hello, World!\"\n",
        "print(b[-5:-2])\n",
        "#Dapatkan karakter dari posisi 5 ke posisi 1 (tidak termasuk), mulai hitungan dari akhir string:"
      ],
      "execution_count": 38,
      "outputs": [
        {
          "output_type": "stream",
          "text": [
            "orl\n"
          ],
          "name": "stdout"
        }
      ]
    },
    {
      "cell_type": "markdown",
      "metadata": {
        "id": "nlzaUPw2Mkwr"
      },
      "source": [
        "Expected output:\n",
        "```\n",
        "orl\n",
        "```"
      ]
    },
    {
      "cell_type": "code",
      "metadata": {
        "id": "InprXyehZUUk",
        "colab": {
          "base_uri": "https://localhost:8080/"
        },
        "outputId": "ead0b7bb-3a85-404f-b634-1f3f34d0761c"
      },
      "source": [
        "#Mulai Program mu....^_^\n",
        "a = \"Assalamualaikum dunia\"\n",
        "print(a[-4:-1])"
      ],
      "execution_count": 39,
      "outputs": [
        {
          "output_type": "stream",
          "text": [
            "uni\n"
          ],
          "name": "stdout"
        }
      ]
    },
    {
      "cell_type": "code",
      "metadata": {
        "id": "A7Z1cnl2ekma",
        "colab": {
          "base_uri": "https://localhost:8080/"
        },
        "outputId": "d41eb2e4-575c-4871-faef-c07f56b9e9b8"
      },
      "source": [
        "#Contoh\n",
        "a = \"Hello, World!\"\n",
        "print(len(a))\n",
        "#Fungsi len () mengembalikan panjang string:"
      ],
      "execution_count": 40,
      "outputs": [
        {
          "output_type": "stream",
          "text": [
            "13\n"
          ],
          "name": "stdout"
        }
      ]
    },
    {
      "cell_type": "markdown",
      "metadata": {
        "id": "I7o2xNSJpQxD"
      },
      "source": [
        "Expected Output :\n",
        "```\n",
        "13\n",
        "```"
      ]
    },
    {
      "cell_type": "code",
      "metadata": {
        "id": "-axqRlaqZY8x",
        "colab": {
          "base_uri": "https://localhost:8080/"
        },
        "outputId": "c3dd8586-2e74-4dcd-a4a1-e1ed84b7c8b3"
      },
      "source": [
        "#Mulai Program mu....^_^\n",
        "b = \"Assalamualaikum addunya\"\n",
        "print(len(b))"
      ],
      "execution_count": 42,
      "outputs": [
        {
          "output_type": "stream",
          "text": [
            "23\n"
          ],
          "name": "stdout"
        }
      ]
    },
    {
      "cell_type": "markdown",
      "metadata": {
        "id": "kIXBHAk3f_KI"
      },
      "source": [
        "## *Check String*\n",
        "Untuk memeriksa apakah frase atau karakter tertentu ada dalam sebuah string, kita dapat menggunakan kata kunci in atau not in"
      ]
    },
    {
      "cell_type": "code",
      "metadata": {
        "id": "aHqLK3vHfzQS",
        "colab": {
          "base_uri": "https://localhost:8080/"
        },
        "outputId": "ba4e231a-58e4-45da-9155-9aa1e9d1c552"
      },
      "source": [
        "#Contoh 1\n",
        "#Periksa apakah frase \"ain\" ada dalam teks berikut:\n",
        "txt = \"Hujan di Spanyol umumnya tetap di dataran\"\n",
        "x = \"jan\" in txt\n",
        "print(x)"
      ],
      "execution_count": 43,
      "outputs": [
        {
          "output_type": "stream",
          "text": [
            "True\n"
          ],
          "name": "stdout"
        }
      ]
    },
    {
      "cell_type": "markdown",
      "metadata": {
        "id": "EvjnqufLpcwD"
      },
      "source": [
        "Expected Output :\n",
        "```\n",
        "True\n",
        "```"
      ]
    },
    {
      "cell_type": "code",
      "metadata": {
        "id": "oXIdUm4lZk0b",
        "colab": {
          "base_uri": "https://localhost:8080/"
        },
        "outputId": "44f3ed34-8ff9-415c-a9d7-a281ea16cfab"
      },
      "source": [
        "#Mulai Program mu....^_^\n",
        "txt2 = \"Banjir melanda dataran rendah dan sampah-sampah berceceran di air\"\n",
        "y =\"ran\" in txt2\n",
        "print(y)"
      ],
      "execution_count": 1,
      "outputs": [
        {
          "output_type": "stream",
          "text": [
            "True\n"
          ],
          "name": "stdout"
        }
      ]
    },
    {
      "cell_type": "code",
      "metadata": {
        "id": "fgyz-8kHgiC8",
        "colab": {
          "base_uri": "https://localhost:8080/"
        },
        "outputId": "78387f07-a661-478f-8a25-4e7f2b118a8d"
      },
      "source": [
        "#Contoh\n",
        "#Periksa apakah frase \"ain\" TIDAK ada dalam teks berikut:\n",
        "txt = \"Hujan di Spanyol umumnya tetap di dataran\"\n",
        "x = \"jan\" not in txt\n",
        "print(x) "
      ],
      "execution_count": 2,
      "outputs": [
        {
          "output_type": "stream",
          "text": [
            "False\n"
          ],
          "name": "stdout"
        }
      ]
    },
    {
      "cell_type": "markdown",
      "metadata": {
        "id": "gEzY_18PplCV"
      },
      "source": [
        "Expected Output :\n",
        "```\n",
        "False\n",
        "```"
      ]
    },
    {
      "cell_type": "code",
      "metadata": {
        "id": "3xsC0rt2ZrPa",
        "colab": {
          "base_uri": "https://localhost:8080/"
        },
        "outputId": "dec862fb-7500-4e4b-b123-838a3ce9d150"
      },
      "source": [
        "#Mulai Program mu....^_^\n",
        "txt2 = \"Banjir melanda dataran rendah dan sampah-sampah berceceran di air\"\n",
        "y =\"ran\" not in txt2\n",
        "print(y)"
      ],
      "execution_count": 3,
      "outputs": [
        {
          "output_type": "stream",
          "text": [
            "False\n"
          ],
          "name": "stdout"
        }
      ]
    },
    {
      "cell_type": "markdown",
      "metadata": {
        "id": "whJkJ80wg4ri"
      },
      "source": [
        "## *String Concatenation*\n",
        "Untuk menggabungkan, atau menggabungkan, dua string Anda dapat menggunakan operator +."
      ]
    },
    {
      "cell_type": "code",
      "metadata": {
        "id": "KcheDEPZhEUn",
        "colab": {
          "base_uri": "https://localhost:8080/"
        },
        "outputId": "becec6a6-e7f5-4117-98fa-26db18d9f112"
      },
      "source": [
        "#Contoh\n",
        "#Gabungkan variabel a dengan variabel b menjadi variabel c\n",
        "a = \"Hello\"\n",
        "b = \"World\"\n",
        "c = a + b\n",
        "print(c)"
      ],
      "execution_count": 5,
      "outputs": [
        {
          "output_type": "stream",
          "text": [
            "HelloWorld\n"
          ],
          "name": "stdout"
        }
      ]
    },
    {
      "cell_type": "markdown",
      "metadata": {
        "id": "yzB_x6uvsgIx"
      },
      "source": [
        "Output :\n",
        "```\n",
        "HelloWorld\n",
        "```"
      ]
    },
    {
      "cell_type": "code",
      "metadata": {
        "id": "G0GMGTBgZ-f6",
        "colab": {
          "base_uri": "https://localhost:8080/"
        },
        "outputId": "88056b08-6962-4224-a3e5-9b9782d686cd"
      },
      "source": [
        "#Mulai Program mu....^_^\n",
        "x = \"Apa \"\n",
        "y = \"kabar \"\n",
        "z = \"kawan?\"\n",
        "a = x+y+ z\n",
        "print(a)"
      ],
      "execution_count": 8,
      "outputs": [
        {
          "output_type": "stream",
          "text": [
            "Apa kabar kawan?\n"
          ],
          "name": "stdout"
        }
      ]
    },
    {
      "cell_type": "code",
      "metadata": {
        "id": "_WYRHkRthc-y",
        "colab": {
          "base_uri": "https://localhost:8080/"
        },
        "outputId": "4f908a91-01cf-40b0-a886-5d72762cb4e3"
      },
      "source": [
        "#Contoh\n",
        "#Untuk menambahkan spasi di antara keduanya, tambahkan \" \":\n",
        "a = \"Hello\"\n",
        "b = \"World\"\n",
        "c = a + \" \" + b\n",
        "print(c)"
      ],
      "execution_count": 9,
      "outputs": [
        {
          "output_type": "stream",
          "text": [
            "Hello World\n"
          ],
          "name": "stdout"
        }
      ]
    },
    {
      "cell_type": "markdown",
      "metadata": {
        "id": "UgWS9_39stHi"
      },
      "source": [
        "Output :\n",
        "```\n",
        "Hello World\n",
        "```"
      ]
    },
    {
      "cell_type": "code",
      "metadata": {
        "id": "tgMo3eBoaE5r",
        "colab": {
          "base_uri": "https://localhost:8080/"
        },
        "outputId": "297ab4ce-824f-47de-dd19-bf1306b6b2ac"
      },
      "source": [
        "#Mulai Program mu....\n",
        "x = \"Apa\"\n",
        "y = \"kabar\"\n",
        "z = \"kawan?\"\n",
        "a = x+\" \"+y+\" \"+z\n",
        "print(a)"
      ],
      "execution_count": 11,
      "outputs": [
        {
          "output_type": "stream",
          "text": [
            "Apa kabar kawan?\n"
          ],
          "name": "stdout"
        }
      ]
    },
    {
      "cell_type": "markdown",
      "metadata": {
        "id": "4Fhyimgde2Mn"
      },
      "source": [
        "##**String Format**\n",
        "####Seperti yang kita pelajari di bab Variabel Python, kita tidak bisa menggabungkan string dan angka seperti ini:"
      ]
    },
    {
      "cell_type": "code",
      "metadata": {
        "id": "7L6XBNLejHsT",
        "colab": {
          "base_uri": "https://localhost:8080/"
        },
        "outputId": "a2dc4426-5d72-4e34-c45c-6b302b39c949"
      },
      "source": [
        "#Contoh\n",
        "umur = \"20\"\n",
        "txt = \"Nama saya Mujhid, saya \" + umur\n",
        "print(txt)"
      ],
      "execution_count": 13,
      "outputs": [
        {
          "output_type": "stream",
          "text": [
            "Nama saya Mujhid, saya 20\n"
          ],
          "name": "stdout"
        }
      ]
    },
    {
      "cell_type": "markdown",
      "metadata": {
        "id": "IyDYFm-5s4w8"
      },
      "source": [
        "Output :\n",
        "```\n",
        "Nama saya Mujhid, saya 20\n",
        "```"
      ]
    },
    {
      "cell_type": "markdown",
      "metadata": {
        "id": "xMzqxUejkZrt"
      },
      "source": [
        "Tapi kita bisa menggabungkan string dan angka dengan menggunakan metode format ()!\n",
        "\n",
        "Metode format () mengambil argumen yang diteruskan, memformatnya, dan menempatkannya dalam string di mana placeholder {} berada:"
      ]
    },
    {
      "cell_type": "markdown",
      "metadata": {
        "id": "-7gLLgzqe2Mx"
      },
      "source": [
        "# *Berbagai Method untuk String pada Python*\n",
        "\n",
        "Python memiliki seperangkat metode bawaan yang dapat Anda gunakan pada string."
      ]
    },
    {
      "cell_type": "markdown",
      "metadata": {
        "id": "P8NnekdTGMh9"
      },
      "source": [
        "### Strip()\n",
        "\n",
        "Method strip() berfungsi untuk menghapus spasi apa pun dari awal atau akhir"
      ]
    },
    {
      "cell_type": "code",
      "metadata": {
        "id": "adhHBCCIfCRV",
        "colab": {
          "base_uri": "https://localhost:8080/"
        },
        "outputId": "75eab25b-66b4-4e81-ef64-cf58164e668f"
      },
      "source": [
        "#Contoh\n",
        "a = \" Hello, World! \"\n",
        "print(a.strip()) # returns \"Hello, World!\""
      ],
      "execution_count": 14,
      "outputs": [
        {
          "output_type": "stream",
          "text": [
            "Hello, World!\n"
          ],
          "name": "stdout"
        }
      ]
    },
    {
      "cell_type": "markdown",
      "metadata": {
        "id": "Qeo6pBGotbxk"
      },
      "source": [
        "Output :\n",
        "```\n",
        "Hello, World!\n",
        "```"
      ]
    },
    {
      "cell_type": "code",
      "metadata": {
        "id": "bnhTYGQEAytD",
        "colab": {
          "base_uri": "https://localhost:8080/"
        },
        "outputId": "da616b74-2ca0-4b52-d441-7367c491ddc7"
      },
      "source": [
        "#Mulai Program Mu....\n",
        "b = \" Nama saya Lutfia, saya berkuliah di UAD \"\n",
        "print(b.strip()) "
      ],
      "execution_count": 16,
      "outputs": [
        {
          "output_type": "stream",
          "text": [
            "Nama saya Lutfia, saya berkuliah di UAD\n"
          ],
          "name": "stdout"
        }
      ]
    },
    {
      "cell_type": "markdown",
      "metadata": {
        "id": "y-DOox5dndFL"
      },
      "source": [
        "###Lower()\n",
        "#####Metode lower () mengembalikan string dalam huruf kecil:"
      ]
    },
    {
      "cell_type": "code",
      "metadata": {
        "id": "D_ST04cMewvV",
        "colab": {
          "base_uri": "https://localhost:8080/"
        },
        "outputId": "bd7d0aac-f5da-461e-accb-3306f72b42d2"
      },
      "source": [
        "#Contoh\n",
        "a = \"HELLO, World!\"\n",
        "print(a.lower())"
      ],
      "execution_count": 17,
      "outputs": [
        {
          "output_type": "stream",
          "text": [
            "hello, world!\n"
          ],
          "name": "stdout"
        }
      ]
    },
    {
      "cell_type": "markdown",
      "metadata": {
        "id": "4rtfR-MQtv1z"
      },
      "source": [
        "Output :\n",
        "```\n",
        "hello, world!\n",
        "```"
      ]
    },
    {
      "cell_type": "markdown",
      "metadata": {
        "id": "goEziMRaop2n"
      },
      "source": [
        "###Upper()\n",
        "#####Metode upper() mengembalikan string dalam huruf besar:"
      ]
    },
    {
      "cell_type": "code",
      "metadata": {
        "id": "tORVzIurfiyq",
        "colab": {
          "base_uri": "https://localhost:8080/"
        },
        "outputId": "5fac9c5d-28ca-409b-ed88-aca74bf43a60"
      },
      "source": [
        "#Contoh\n",
        "a = \"Hello, World!\"\n",
        "print(a.upper())"
      ],
      "execution_count": 18,
      "outputs": [
        {
          "output_type": "stream",
          "text": [
            "HELLO, WORLD!\n"
          ],
          "name": "stdout"
        }
      ]
    },
    {
      "cell_type": "markdown",
      "metadata": {
        "id": "1d7SQJ3zt6M-"
      },
      "source": [
        "Output :\n",
        "```\n",
        "HELLO, WORLD!\n",
        "```"
      ]
    },
    {
      "cell_type": "markdown",
      "metadata": {
        "id": "p_8BudcBuNRK"
      },
      "source": [
        "###Replace()\n",
        "#####Metode replace () menggantikan string dengan string lain:"
      ]
    },
    {
      "cell_type": "code",
      "metadata": {
        "id": "KRCtERX-fsRL",
        "colab": {
          "base_uri": "https://localhost:8080/"
        },
        "outputId": "565d7d64-05d4-4361-e433-c3a572002210"
      },
      "source": [
        "#Contoh\n",
        "a = \"Hello, World!\"\n",
        "print(a.replace(\"H\", \"J\"))"
      ],
      "execution_count": 19,
      "outputs": [
        {
          "output_type": "stream",
          "text": [
            "Jello, World!\n"
          ],
          "name": "stdout"
        }
      ]
    },
    {
      "cell_type": "markdown",
      "metadata": {
        "id": "HoBM7TssuDC0"
      },
      "source": [
        "Output :\n",
        "```\n",
        "Jello, World!\n",
        "```"
      ]
    },
    {
      "cell_type": "markdown",
      "metadata": {
        "id": "HENcWNGouzZQ"
      },
      "source": [
        "###Split()\n",
        "#####Metode split () membagi string menjadi beberapa substring jika menemukan contoh pemisah:"
      ]
    },
    {
      "cell_type": "code",
      "metadata": {
        "id": "lZOPF8zNfzUz",
        "colab": {
          "base_uri": "https://localhost:8080/"
        },
        "outputId": "2561e398-4a52-4f49-a0df-cbda29419d3a"
      },
      "source": [
        "#Contoh\n",
        "a = \"Hello, World!\"\n",
        "print(a.split(\",\")) # returns ['Hello', ' World!']"
      ],
      "execution_count": 20,
      "outputs": [
        {
          "output_type": "stream",
          "text": [
            "['Hello', ' World!']\n"
          ],
          "name": "stdout"
        }
      ]
    },
    {
      "cell_type": "markdown",
      "metadata": {
        "id": "7nCtdk1Du-m8"
      },
      "source": [
        "Output :\n",
        "```\n",
        "['Hello', ' World!']\n",
        "```"
      ]
    },
    {
      "cell_type": "markdown",
      "metadata": {
        "id": "TaxVOjwbvc6k"
      },
      "source": [
        "###Capitalize()\n",
        "#####Metode capitalize () menggantikan karakter pertama menjadi huruf apital"
      ]
    },
    {
      "cell_type": "code",
      "metadata": {
        "id": "AKCjwL5pu6uA",
        "colab": {
          "base_uri": "https://localhost:8080/"
        },
        "outputId": "acde4cfc-c146-4f9e-9f06-257166dbee6f"
      },
      "source": [
        "#Contoh\n",
        "a = \"hello, world\"\n",
        "print(a.capitalize())"
      ],
      "execution_count": 21,
      "outputs": [
        {
          "output_type": "stream",
          "text": [
            "Hello, world\n"
          ],
          "name": "stdout"
        }
      ]
    },
    {
      "cell_type": "markdown",
      "metadata": {
        "id": "2aTzRqgzwcd-"
      },
      "source": [
        "Output :\n",
        "```\n",
        "Hello, world\n",
        "```"
      ]
    },
    {
      "cell_type": "markdown",
      "metadata": {
        "id": "lFk8jkgTw7Qc"
      },
      "source": [
        "###Casefold()\n",
        "#####Metode casefold () Mengubah string menjadi huruf kecil"
      ]
    },
    {
      "cell_type": "code",
      "metadata": {
        "id": "rqUVI0_QwQ9M",
        "colab": {
          "base_uri": "https://localhost:8080/"
        },
        "outputId": "80dba532-942e-429f-8168-08d2004fbe61"
      },
      "source": [
        "#Contoh\n",
        "a = \"Hello, World\"\n",
        "print(a.casefold())"
      ],
      "execution_count": 22,
      "outputs": [
        {
          "output_type": "stream",
          "text": [
            "hello, world\n"
          ],
          "name": "stdout"
        }
      ]
    },
    {
      "cell_type": "markdown",
      "metadata": {
        "id": "uOJqg_Hhx7jM"
      },
      "source": [
        "###Count()\n",
        "#####Metode count () Mengembalikan frekuensi nilai yang ditentukan muncul dalam string"
      ]
    },
    {
      "cell_type": "code",
      "metadata": {
        "id": "X0BxqrG6zC3j",
        "colab": {
          "base_uri": "https://localhost:8080/"
        },
        "outputId": "89bd5849-e4d5-4952-bb07-9826edf782d9"
      },
      "source": [
        "# definiskan string\n",
        "string = \"Python is awesome, isn't it?\"\n",
        "substring = \"is\"\n",
        "\n",
        "count = string.count(substring)\n",
        "\n",
        "# print count\n",
        "print(\"Jumlah :\", count)"
      ],
      "execution_count": 23,
      "outputs": [
        {
          "output_type": "stream",
          "text": [
            "Jumlah : 2\n"
          ],
          "name": "stdout"
        }
      ]
    },
    {
      "cell_type": "markdown",
      "metadata": {
        "id": "c-107cVfCt-f"
      },
      "source": [
        "Output :\n",
        "```\n",
        "Jumlah : 2\n",
        "```"
      ]
    },
    {
      "cell_type": "markdown",
      "metadata": {
        "id": "TK1BWNfmNmg9"
      },
      "source": [
        "###Encode()\n",
        "#####Metode encode () mengembalikan string yang berada di tengah"
      ]
    },
    {
      "cell_type": "code",
      "metadata": {
        "id": "Z3vdoZsq76n7",
        "colab": {
          "base_uri": "https://localhost:8080/"
        },
        "outputId": "0c684e20-487f-4f6f-a111-56bd4f530a65"
      },
      "source": [
        "a = \"My name is Mujhid\"\n",
        "\n",
        "x = a.encode()\n",
        "\n",
        "print(x)"
      ],
      "execution_count": 24,
      "outputs": [
        {
          "output_type": "stream",
          "text": [
            "b'My name is Mujhid'\n"
          ],
          "name": "stdout"
        }
      ]
    },
    {
      "cell_type": "markdown",
      "metadata": {
        "id": "qPgAcs3q03rJ"
      },
      "source": [
        "###Swapcase()\n",
        "#####Metode swapcase () untuk menukar kasus, huruf kecil menjadi huruf besar dan sebaliknya"
      ]
    },
    {
      "cell_type": "code",
      "metadata": {
        "id": "1aogmteyOBqW",
        "colab": {
          "base_uri": "https://localhost:8080/"
        },
        "outputId": "0aa74ce4-4ed7-45a4-ab76-4fd29dd02e2e"
      },
      "source": [
        "a = \"My Name is Mujhid\"\n",
        "\n",
        "x = a.swapcase()\n",
        "\n",
        "print(x)"
      ],
      "execution_count": 25,
      "outputs": [
        {
          "output_type": "stream",
          "text": [
            "mY nAME IS mUJHID\n"
          ],
          "name": "stdout"
        }
      ]
    },
    {
      "cell_type": "markdown",
      "metadata": {
        "id": "NygjfmV-GP04"
      },
      "source": [
        "Output :\n",
        "```\n",
        "mY nAME IS mUJHID\n",
        "```"
      ]
    },
    {
      "cell_type": "markdown",
      "metadata": {
        "id": "1bnoscP55UBZ"
      },
      "source": [
        "\n",
        "\n",
        "---\n",
        "\n",
        "\n",
        "# **Dictionary Pada Python**\n",
        "\n",
        "\n",
        "---\n",
        "\n",
        "\n",
        "Berbeda dengan List dan Tuple, didalam Dictionary Python setiap urutanya berisi key dan value yang bersifat tidak berurutan. \n",
        "1. Setiap key dipisahkan dari value-nya oleh titik dua (:)\n",
        "2. item dipisahkan oleh koma, dan semuanya tertutup dalam kurung kurawal. \n",
        "3. Dictionary kosong tanpa barang ditulis hanya dengan dua kurung kurawal, seperti ini: {}."
      ]
    },
    {
      "cell_type": "markdown",
      "metadata": {
        "id": "Qqi7EOUv8QlF"
      },
      "source": [
        "**Contoh 1:**\n"
      ]
    },
    {
      "cell_type": "code",
      "metadata": {
        "id": "9frE3t3c-VL5",
        "colab": {
          "base_uri": "https://localhost:8080/"
        },
        "outputId": "ac818aa5-2937-4b49-c2e5-40575d2d03bf"
      },
      "source": [
        "dict= {'Universitas' : 'UAD' , 'Prodi' : 'Matematika' , 'Tahun' : 2018 , 'NIM' : 180015065}\n",
        "print(type(dict))"
      ],
      "execution_count": 40,
      "outputs": [
        {
          "output_type": "stream",
          "text": [
            "<class 'dict'>\n"
          ],
          "name": "stdout"
        }
      ]
    },
    {
      "cell_type": "markdown",
      "metadata": {
        "id": "cpN9v_hTCQ6w"
      },
      "source": [
        "Yuk coba buat dictionary kamu :)"
      ]
    },
    {
      "cell_type": "code",
      "metadata": {
        "id": "XGAZx3QiCWtQ",
        "colab": {
          "base_uri": "https://localhost:8080/"
        },
        "outputId": "da7b6cd4-b8f7-4be5-c19b-aa7b7684d454"
      },
      "source": [
        "#Membuat directory\n",
        "dict2 = {'Provinsi' : 'Yogyakarta', 'Kabupaten' : 'Bantul' , 'Kecamatan' : 'Banguntapan' , 'Kodepos' : 55621}\n",
        "print(type(dict2))"
      ],
      "execution_count": 37,
      "outputs": [
        {
          "output_type": "stream",
          "text": [
            "<class 'dict'>\n"
          ],
          "name": "stdout"
        }
      ]
    },
    {
      "cell_type": "markdown",
      "metadata": {
        "id": "wiTUsNTSAq-f"
      },
      "source": [
        "## Mengakses Nilai pada Dictionary\n",
        "Untuk mengakses elemen Dictionary, dapat menggunakan kurung siku yang berisi key ['key'] untuk mendapatkan value yang diinginkan."
      ]
    },
    {
      "cell_type": "code",
      "metadata": {
        "id": "B7K8CmX4BxV6",
        "colab": {
          "base_uri": "https://localhost:8080/"
        },
        "outputId": "aef6bbf2-ed84-4dbd-867b-d88157135736"
      },
      "source": [
        "dict= {'Universitas' : 'UAD' , 'Prodi' : 'Matematika' , 'Tahun' : 2018 , 1800015065 : 'NIM'}\n",
        "print(type(dict))\n",
        "print(\"dict['Universitas'] = \", dict['Universitas'])\n",
        "print(\"dict['Prodi'] =\", dict['Prodi'])\n",
        "print(\"dict['Tahun'] =\", dict['Tahun'])\n",
        "print(\"dict[1800015065] = \", dict[1800015065])"
      ],
      "execution_count": 41,
      "outputs": [
        {
          "output_type": "stream",
          "text": [
            "<class 'dict'>\n",
            "dict['Universitas'] =  UAD\n",
            "dict['Prodi'] = Matematika\n",
            "dict['Tahun'] = 2018\n",
            "dict[1800015065] =  NIM\n"
          ],
          "name": "stdout"
        }
      ]
    },
    {
      "cell_type": "markdown",
      "metadata": {
        "id": "0Ko2w5YXCeUH"
      },
      "source": [
        "Nah sekarang coba akses nilai di dictionary kamu, go go go"
      ]
    },
    {
      "cell_type": "code",
      "metadata": {
        "id": "zMOqnpFtCtBc",
        "colab": {
          "base_uri": "https://localhost:8080/"
        },
        "outputId": "3b2b90c7-ae8c-45f8-d4db-0c7e67b0408b"
      },
      "source": [
        "#Mengakses nilai directory\n",
        "dict2 = {'Provinsi' : 'Yogyakarta', 'Kabupaten' : 'Bantul' , 'Kecamatan' : 'Banguntapan' , 55621 : 'Kodepos'}\n",
        "print(type(dict2))\n",
        "print(\"dict2['Provinsi'] = \", dict2['Provinsi'])\n",
        "print(\"dict2['Kabupaten'] =\", dict2['Kabupaten'])\n",
        "print(\"dict2['Kecamatan'] =\", dict2['Kecamatan'])\n",
        "print(\"dict2[55621] = \", dict2[55621])"
      ],
      "execution_count": 4,
      "outputs": [
        {
          "output_type": "stream",
          "text": [
            "<class 'dict'>\n",
            "dict2['Provinsi'] =  Yogyakarta\n",
            "dict2['Kabupaten'] = Bantul\n",
            "dict2['Kecamatan'] = Banguntapan\n",
            "dict2[55621] =  Kodepos\n"
          ],
          "name": "stdout"
        }
      ]
    },
    {
      "cell_type": "markdown",
      "metadata": {
        "id": "UzGJBTYWF9Wz"
      },
      "source": [
        "## Mengubah Nilai pada Dictionary\n",
        "Anda dapat memperbarui Dictionary dengan menambahkan entri baru atau pasangan nilai kunci, memodifikasi entri yang ada, atau menghapus entri yang ada"
      ]
    },
    {
      "cell_type": "code",
      "metadata": {
        "id": "ZkMuE6xJGGzq",
        "colab": {
          "base_uri": "https://localhost:8080/"
        },
        "outputId": "6f49a8b7-d26d-424f-9423-00717ed8d45b"
      },
      "source": [
        "dict= {'Universitas' : 'UAD' , 'Prodi' : 'Matematika' , 'Tahun' : 2018 , 1800015065 : 'NIM'}\n",
        "dict[1800015065] = 'Bukan NIM' #Mengubah entri atau value yang sudah ada\n",
        "dict['Universitas'] = 'UGM' #Menambah entri atau value\n",
        "print(\"dict[1800015065] =\", dict[1800015065]);\n",
        "print(\"dict['Universitas'] =\", dict['Universitas']);"
      ],
      "execution_count": 5,
      "outputs": [
        {
          "output_type": "stream",
          "text": [
            "dict[1800015065] = Bukan NIM\n",
            "dict['Universitas'] = UGM\n"
          ],
          "name": "stdout"
        }
      ]
    },
    {
      "cell_type": "code",
      "metadata": {
        "id": "vX3rYRdjL6GF",
        "colab": {
          "base_uri": "https://localhost:8080/"
        },
        "outputId": "af8d1fe7-3094-40f7-eecd-74bc397e37c9"
      },
      "source": [
        "thisdict = {\n",
        "    \"brand\" : \"Toyota\",\n",
        "    \"model\" : \"Kijang\",\n",
        "    \"year\" : 2004\n",
        "}\n",
        "print(thisdict)"
      ],
      "execution_count": 8,
      "outputs": [
        {
          "output_type": "stream",
          "text": [
            "{'brand': 'Toyota', 'model': 'Kijang', 'year': 2004}\n"
          ],
          "name": "stdout"
        }
      ]
    },
    {
      "cell_type": "markdown",
      "metadata": {
        "id": "47jIA7JvC2sL"
      },
      "source": [
        "Sekarang sudah tau kan kalo nilai dictionary bisa diubah dan kalian sudah paham kan gimana ngubahnya, yuk dicoba dulu biar makin paham :)"
      ]
    },
    {
      "cell_type": "code",
      "metadata": {
        "id": "1gGuQpm1DPSN",
        "colab": {
          "base_uri": "https://localhost:8080/"
        },
        "outputId": "67614835-58e8-44fe-a34a-19e33a2c1cbb"
      },
      "source": [
        "#Mengubah nilai directory\n",
        "dict2 = {'Provinsi' : 'Yogyakarta', 'Kabupaten' : 'Bantul' , 'Kecamatan' : 'Banguntapan' , 55621 : 'Kodepos'}\n",
        "dict2[55621] = 'Bukan Kodepos'\n",
        "dict2['Provinsi'] = 'Jawa Timur'\n",
        "print(\"dict2[55621] = \", dict2[55621]);\n",
        "print(\"dict2['Provinsi'] = \", dict2['Provinsi'])"
      ],
      "execution_count": 9,
      "outputs": [
        {
          "output_type": "stream",
          "text": [
            "dict2[55621] =  Bukan Kodepos\n",
            "dict2['Provinsi'] =  Jawa Timur\n"
          ],
          "name": "stdout"
        }
      ]
    },
    {
      "cell_type": "markdown",
      "metadata": {
        "id": "hBFir8xVLg5o"
      },
      "source": [
        "## Loop Melalui Dictionary\n",
        "\n",
        "Pada bagian Pengulangan melalui Dictionary, kita dapat melakukan Loop(Pengulangan) melalui Dictionary dengan menggunakan **for** loop.\n",
        "\n",
        "Saat melakukan pengulangan melalui Dictionary, nilai yang dikembalikan adalah kunci dari Dictionary, tetapi terdapat metode untuk mengembalikan nilai\n",
        "\n",
        "Sebagai contoh :\n",
        "Print semua nama kunci dalam Dictionary satu per satu"
      ]
    },
    {
      "cell_type": "code",
      "metadata": {
        "id": "EsK_xCfaMBwW",
        "colab": {
          "base_uri": "https://localhost:8080/"
        },
        "outputId": "34a37d90-807a-4726-b582-f47005c00173"
      },
      "source": [
        "for x in thisdict:\n",
        "  print(x)"
      ],
      "execution_count": 10,
      "outputs": [
        {
          "output_type": "stream",
          "text": [
            "brand\n",
            "model\n",
            "year\n"
          ],
          "name": "stdout"
        }
      ]
    },
    {
      "cell_type": "markdown",
      "metadata": {
        "id": "vBPM3O_CMHmd"
      },
      "source": [
        "**Contoh 2:**\n",
        "\n",
        "Print semua *nilai* dalam Dictionary satu per satu"
      ]
    },
    {
      "cell_type": "code",
      "metadata": {
        "id": "zC1X4W8_MMDf",
        "colab": {
          "base_uri": "https://localhost:8080/"
        },
        "outputId": "3a4e2a9b-7968-456a-ef3a-0411c768591e"
      },
      "source": [
        "for x in thisdict:\n",
        "  print(thisdict[x])"
      ],
      "execution_count": 11,
      "outputs": [
        {
          "output_type": "stream",
          "text": [
            "Toyota\n",
            "Kijang\n",
            "2004\n"
          ],
          "name": "stdout"
        }
      ]
    },
    {
      "cell_type": "markdown",
      "metadata": {
        "id": "CTX8JbrdMQHG"
      },
      "source": [
        "**Contoh 3:**\n",
        "\n",
        "Kita juga dapat menggunakan **values()** yang merupakan metode untuk mengembalikan nilai Dictionary"
      ]
    },
    {
      "cell_type": "code",
      "metadata": {
        "id": "P4sF4NJwMVKi",
        "colab": {
          "base_uri": "https://localhost:8080/"
        },
        "outputId": "67b2bcfd-18d3-41ee-bb41-9158623d70c8"
      },
      "source": [
        "for x in thisdict.values():\n",
        "  print(x)"
      ],
      "execution_count": 12,
      "outputs": [
        {
          "output_type": "stream",
          "text": [
            "Toyota\n",
            "Kijang\n",
            "2004\n"
          ],
          "name": "stdout"
        }
      ]
    },
    {
      "cell_type": "markdown",
      "metadata": {
        "id": "Vw6KRxXUMYdk"
      },
      "source": [
        "**Contoh 4:**\n",
        "\n",
        "Ulangi kedua kunci dan nilai, dengan menggunakan metode **items()**:"
      ]
    },
    {
      "cell_type": "code",
      "metadata": {
        "id": "R0LHvTdCMciA",
        "colab": {
          "base_uri": "https://localhost:8080/"
        },
        "outputId": "5b6c65f4-9657-4918-d895-be65557dea99"
      },
      "source": [
        "for x, y in thisdict.items():\n",
        "  print(x, y)"
      ],
      "execution_count": 13,
      "outputs": [
        {
          "output_type": "stream",
          "text": [
            "brand Toyota\n",
            "model Kijang\n",
            "year 2004\n"
          ],
          "name": "stdout"
        }
      ]
    },
    {
      "cell_type": "markdown",
      "metadata": {
        "id": "PLi6zJNRDjpd"
      },
      "source": [
        "Di atas sudah diberikan contoh loop melalui directory menggunakan berbagai cara, sekarang kalian coba biar makin paham"
      ]
    },
    {
      "cell_type": "code",
      "metadata": {
        "id": "k2wcRN_8EAJX",
        "colab": {
          "base_uri": "https://localhost:8080/"
        },
        "outputId": "1f0d2479-818a-4b56-d0a6-8732b2c4cff9"
      },
      "source": [
        "#Loop Melalui Directory\n",
        "lutfia = {\n",
        "    \"Provinsi\" : \"Yogyakarta\",\n",
        "    \"Kabupaten\" : \"Bantul\",\n",
        "    \"Kodepos\" : 55621\n",
        "}\n",
        "print(lutfia)\n"
      ],
      "execution_count": 16,
      "outputs": [
        {
          "output_type": "stream",
          "text": [
            "{'Provinsi': 'Yogyakarta', 'Kabupaten': 'Bantul', 'Kodepos': 55621}\n"
          ],
          "name": "stdout"
        }
      ]
    },
    {
      "cell_type": "markdown",
      "metadata": {
        "id": "xT7pJUjFMi_B"
      },
      "source": [
        "## Mengecek keanggotaan suatu key\n",
        "Untuk menentukan apakah kunci tertentu ada dalam Dictionary gunakan **in** sebagai kunci"
      ]
    },
    {
      "cell_type": "markdown",
      "metadata": {
        "id": "naFLmYYzMtOp"
      },
      "source": [
        "**Contoh 6:**\n",
        "\n",
        "Cek jika \"model\" terdapat pada Dictionary"
      ]
    },
    {
      "cell_type": "code",
      "metadata": {
        "id": "8flzqPCTMvAm",
        "colab": {
          "base_uri": "https://localhost:8080/"
        },
        "outputId": "fc87cd2f-e007-40bb-8083-2a7ec1b37380"
      },
      "source": [
        "thisdict = {\n",
        "    \"brand\" : \"Toyota\",\n",
        "    \"model\" : \"Kijang\",\n",
        "    \"tahun\" : 2004\n",
        "}\n",
        "if \"model\" in thisdict :\n",
        "  print(\"Yes, 'model' adalah salah satu dari kunci dalam distict dictionary\")"
      ],
      "execution_count": 17,
      "outputs": [
        {
          "output_type": "stream",
          "text": [
            "Yes, 'model' adalah salah satu dari kunci dalam distict dictionary\n"
          ],
          "name": "stdout"
        }
      ]
    },
    {
      "cell_type": "markdown",
      "metadata": {
        "id": "IUOIUwOYEQuR"
      },
      "source": [
        "Sekarang kalian coba deh cek keanggotaan suatu key yang ada di dictionary kalian, siapa tahu bukan merupakan anggota kan, bisa jadi penyusup xixixi"
      ]
    },
    {
      "cell_type": "code",
      "metadata": {
        "id": "K85KcpLaEsBH",
        "colab": {
          "base_uri": "https://localhost:8080/"
        },
        "outputId": "66e29a10-b57a-42b9-a4b4-0f172c290319"
      },
      "source": [
        "#Mengecek keanggotaan suatu key\n",
        "lutfia = {\n",
        "    \"Provinsi\" : \"Yogyakarta\",\n",
        "    \"Kabupaten\" : \"Bantul\",\n",
        "    \"Kodepos\" : 55621\n",
        "}\n",
        "if \"Kabupaten\" in lutfia :\n",
        "  print(\"Yes, 'Kabupaten Bantul' adalah salah satu dari provinsi di DIY\")"
      ],
      "execution_count": 19,
      "outputs": [
        {
          "output_type": "stream",
          "text": [
            "Yes, 'Kabupaten Bantul' adalah salah satu dari provinsi di DIY\n"
          ],
          "name": "stdout"
        }
      ]
    },
    {
      "cell_type": "markdown",
      "metadata": {
        "id": "NeXUQXjZOBOv"
      },
      "source": [
        "## Menambah Item"
      ]
    },
    {
      "cell_type": "markdown",
      "metadata": {
        "id": "-DeukrFUOOJ2"
      },
      "source": [
        "Untuk menambahkan item, kita dapat menggunakan kunci index baru dengan langsung memberikan nilainya. Untuk contohnya, bisa dilihat kode di bawah ini yaa :)"
      ]
    },
    {
      "cell_type": "code",
      "metadata": {
        "id": "pCnst7TaOPOE",
        "colab": {
          "base_uri": "https://localhost:8080/"
        },
        "outputId": "99b49eed-e8c8-415a-fd93-26e687638a7a"
      },
      "source": [
        "thisdict = {'Name': 'Zara', 'Age': 7, 'Class': 'First'}\n",
        "\n",
        "thisdict['School'] = \"DPS School\" # Menambah entri baru pada thisdict\n",
        "\n",
        "print (thisdict)"
      ],
      "execution_count": 20,
      "outputs": [
        {
          "output_type": "stream",
          "text": [
            "{'Name': 'Zara', 'Age': 7, 'Class': 'First', 'School': 'DPS School'}\n"
          ],
          "name": "stdout"
        }
      ]
    },
    {
      "cell_type": "markdown",
      "metadata": {
        "id": "5mHe4zJJOaFJ"
      },
      "source": [
        "Selain menggunakan format di atas, untuk menambahkan item kita juga bisa menggunakan method update()."
      ]
    },
    {
      "cell_type": "code",
      "metadata": {
        "id": "P3ODwqpeObGi",
        "colab": {
          "base_uri": "https://localhost:8080/"
        },
        "outputId": "20656e2d-0e9f-44be-ad94-c50ff646f500"
      },
      "source": [
        "thisdict = {'Name': 'Zara', 'Age': 7, 'Class': 'First'}\n",
        "\n",
        "thisdict.update({\"School\": \"DPS School\"}) #Menambah item baru pada thisdict\n",
        "\n",
        "print(thisdict)"
      ],
      "execution_count": 21,
      "outputs": [
        {
          "output_type": "stream",
          "text": [
            "{'Name': 'Zara', 'Age': 7, 'Class': 'First', 'School': 'DPS School'}\n"
          ],
          "name": "stdout"
        }
      ]
    },
    {
      "cell_type": "markdown",
      "metadata": {
        "id": "vES-HR3hE0-f"
      },
      "source": [
        "Nah iya nih dalam menambah item baru pada dictionary bisa dilakukan dengan 2 cara, menurut kalian mudah yang mana, dicoba dulu biar tahu rasanya hohoho"
      ]
    },
    {
      "cell_type": "code",
      "metadata": {
        "id": "ORxfmwHgFCwT",
        "colab": {
          "base_uri": "https://localhost:8080/"
        },
        "outputId": "81fb17b5-39a5-4be3-edd1-d7d13b7e863c"
      },
      "source": [
        "#Menambah item baru pada dictionary\n",
        "lutfia = {'Aku bernama' : 'Lutfia', 'Berumur' : 18, 'Pendidikan terakhir' : 'SMA'}\n",
        "lutfia['Domisili'] = \"Yogyakarta\"\n",
        "print(lutfia)"
      ],
      "execution_count": 22,
      "outputs": [
        {
          "output_type": "stream",
          "text": [
            "{'Aku bernama': 'Lutfia', 'Berumur': 18, 'Pendidikan terakhir': 'SMA', 'Domisili': 'Yogyakarta'}\n"
          ],
          "name": "stdout"
        }
      ]
    },
    {
      "cell_type": "markdown",
      "metadata": {
        "id": "UztNPpTNOjkS"
      },
      "source": [
        "## Menghapus Item"
      ]
    },
    {
      "cell_type": "markdown",
      "metadata": {
        "id": "ZrrLJx6SOlQF"
      },
      "source": [
        "Untuk menghapus item yang ada pada Dictionary, kita bisa menggunakan perintah del, method pop(), method popitem(), dan method clear().\n",
        "\n",
        "- Fungsi del adalah fungsi untuk menghapus suatu variabel dari memori.\n",
        "\n",
        "- Method pop() adalah method yang berfungsi untuk mengeluarkan item yang diinginkan dari dictionary.\n",
        "\n",
        "- Method popitem() adalah method yang digunakan untuk menghapus item yang terakhir.\n",
        "\n",
        "- Method clear() adalah method yang digunakan untuk mengosongkan dictionary."
      ]
    },
    {
      "cell_type": "code",
      "metadata": {
        "id": "Tv2i5H42OsIk",
        "colab": {
          "base_uri": "https://localhost:8080/"
        },
        "outputId": "45e3d705-c59e-490a-b17f-a22ae5d2a370"
      },
      "source": [
        "#Menghapus item menggunakan del\n",
        "thisdict = {'Name': 'Zara', 'Age': 7, 'Class': 'First'}\n",
        "del thisdict[\"Name\"]\n",
        "\n",
        "print(thisdict)"
      ],
      "execution_count": 23,
      "outputs": [
        {
          "output_type": "stream",
          "text": [
            "{'Age': 7, 'Class': 'First'}\n"
          ],
          "name": "stdout"
        }
      ]
    },
    {
      "cell_type": "code",
      "metadata": {
        "id": "5tHFrmvsOzKw",
        "colab": {
          "base_uri": "https://localhost:8080/"
        },
        "outputId": "b11298dc-c363-436c-f50a-980badaff485"
      },
      "source": [
        "#Menghapus item menggunakan method pop()\n",
        "thisdict = {'Name': 'Zara', 'Age': 7, 'Class': 'First'}\n",
        "thisdict.pop(\"Age\")\n",
        "\n",
        "print(thisdict)"
      ],
      "execution_count": 24,
      "outputs": [
        {
          "output_type": "stream",
          "text": [
            "{'Name': 'Zara', 'Class': 'First'}\n"
          ],
          "name": "stdout"
        }
      ]
    },
    {
      "cell_type": "code",
      "metadata": {
        "id": "2wR2qAe1O0_p",
        "colab": {
          "base_uri": "https://localhost:8080/"
        },
        "outputId": "53526653-3b5a-4acc-b8c5-7cd37332e5df"
      },
      "source": [
        "#Menghapus item menggunakan method popitem()\n",
        "thisdict = {'Name': 'Zara', 'Age': 7, 'Class': 'First'}\n",
        "thisdict.popitem()\n",
        "\n",
        "print(thisdict)"
      ],
      "execution_count": 25,
      "outputs": [
        {
          "output_type": "stream",
          "text": [
            "{'Name': 'Zara', 'Age': 7}\n"
          ],
          "name": "stdout"
        }
      ]
    },
    {
      "cell_type": "code",
      "metadata": {
        "id": "obesr1UqO_u5",
        "colab": {
          "base_uri": "https://localhost:8080/"
        },
        "outputId": "7802e10f-6135-4d20-9f23-f8733f176d44"
      },
      "source": [
        "#Menghapus item menggunakan method clear()\n",
        "thisdict = {'Name': 'Zara', 'Age': 7, 'Class': 'First'}\n",
        "thisdict.clear()\n",
        "\n",
        "print(thisdict)"
      ],
      "execution_count": 26,
      "outputs": [
        {
          "output_type": "stream",
          "text": [
            "{}\n"
          ],
          "name": "stdout"
        }
      ]
    },
    {
      "cell_type": "markdown",
      "metadata": {
        "id": "VfK6RhraFOoQ"
      },
      "source": [
        "Dan kalo menghapus dictionary ternyata ada 4 cara lohh, pada contoh di atas sudah jelas kan, supaya tambah jelas silahkan dicoba yaa ;)"
      ]
    },
    {
      "cell_type": "code",
      "metadata": {
        "id": "1-BGdhElFert",
        "colab": {
          "base_uri": "https://localhost:8080/"
        },
        "outputId": "97c6c919-6a2c-4a1d-f15a-7762031b0fd8"
      },
      "source": [
        "#Menghapus item menggunakan del\n",
        "lutfia = {'Aku bernama' : 'Lutfia', 'Berumur' : 18, 'Pendidikan terakhir' : 'SMA'}\n",
        "del lutfia[\"Aku bernama\"]\n",
        "print (lutfia)\n",
        "#Menghapus item menggunapak method pop()\n",
        "lutfia = {'Aku bernama' : 'Lutfia', 'Berumur' : 18, 'Pendidikan terakhir' : 'SMA'}\n",
        "lutfia.pop(\"Berumur\")\n",
        "print(lutfia)\n",
        "#Menghapus item menggunakan method popitem()\n",
        "lutfia = {'Aku bernama' : 'Lutfia', 'Berumur' : 18, 'Pendidikan terakhir' : 'SMA'}\n",
        "lutfia.popitem()\n",
        "print(lutfia)\n",
        "#Menghapus item menggunakan method clear()\n",
        "lutfia = {'Aku bernama' : 'Lutfia', 'Berumur' : 18, 'Pendidikan terakhir' : 'SMA'}\n",
        "lutfia.clear()\n",
        "print(lutfia)"
      ],
      "execution_count": 27,
      "outputs": [
        {
          "output_type": "stream",
          "text": [
            "{'Berumur': 18, 'Pendidikan terakhir': 'SMA'}\n",
            "{'Aku bernama': 'Lutfia', 'Pendidikan terakhir': 'SMA'}\n",
            "{'Aku bernama': 'Lutfia', 'Berumur': 18}\n",
            "{}\n"
          ],
          "name": "stdout"
        }
      ]
    },
    {
      "cell_type": "markdown",
      "metadata": {
        "id": "yw-oOwJyPIFA"
      },
      "source": [
        "## Menyalin Dictionary"
      ]
    },
    {
      "cell_type": "markdown",
      "metadata": {
        "id": "ijhQx7qmPgcF"
      },
      "source": [
        "Untuk menyalin dictionary, kita dapat menggunakan method copy()."
      ]
    },
    {
      "cell_type": "code",
      "metadata": {
        "id": "Q-CWNgUuPPqg",
        "colab": {
          "base_uri": "https://localhost:8080/"
        },
        "outputId": "c7c82dc8-3f2c-44c6-c956-5d875c20182a"
      },
      "source": [
        "#Menggunakan method copy()\n",
        "thisdict = {'Name': 'Zara', 'Age': 7, 'Class': 'First'}\n",
        "mydict=thisdict.copy()\n",
        "\n",
        "print(mydict)"
      ],
      "execution_count": 28,
      "outputs": [
        {
          "output_type": "stream",
          "text": [
            "{'Name': 'Zara', 'Age': 7, 'Class': 'First'}\n"
          ],
          "name": "stdout"
        }
      ]
    },
    {
      "cell_type": "markdown",
      "metadata": {
        "id": "VhzUKxt8Ghg_"
      },
      "source": [
        "Yuk coba salin dictionary yang telah kalian buat tadi, biar bisa diotak atik lagi xixixi"
      ]
    },
    {
      "cell_type": "code",
      "metadata": {
        "id": "cYpu8BnOGfnZ",
        "colab": {
          "base_uri": "https://localhost:8080/"
        },
        "outputId": "4444361c-c306-44f4-945e-563455f56796"
      },
      "source": [
        "#Menyalin dictionary\n",
        "lutfia = {'Aku bernama' : 'Lutfia', 'Berumur' : 18, 'Pendidikan terakhir' : 'SMA'}\n",
        "lutfia2 = lutfia.copy()\n",
        "print(lutfia2)"
      ],
      "execution_count": 30,
      "outputs": [
        {
          "output_type": "stream",
          "text": [
            "{'Aku bernama': 'Lutfia', 'Berumur': 18, 'Pendidikan terakhir': 'SMA'}\n"
          ],
          "name": "stdout"
        }
      ]
    },
    {
      "cell_type": "markdown",
      "metadata": {
        "id": "HapRCuUdJcal"
      },
      "source": [
        "## Nested Dictionary\n",
        "Nested Dictionary atau kamus bertingkat merupakan suatu kamus yang mana kamus tersebut bisa diisi dengan satu atau lebih kamus di dalamnya.\n",
        "\n",
        "Kita akan membuat sebuah contoh Kamus yang memuat 3 kamus di dalamnya"
      ]
    },
    {
      "cell_type": "code",
      "metadata": {
        "id": "a7HX1DVFJiQN",
        "colab": {
          "base_uri": "https://localhost:8080/"
        },
        "outputId": "0199f9c7-2859-45f6-eec4-8cd52170568c"
      },
      "source": [
        "Keluarga_afif={\n",
        "    \"anak1\":{\n",
        "        \"nama\":\"dera\",\n",
        "        \"Tanggal Lahir\": 19012000\n",
        "    },\n",
        "    \"anak2\":{\n",
        "        \"nama\":\"Joko\",\n",
        "        \"Tanggal Lahir\": 17091997 \n",
        "    },\n",
        "    \"anak3\":{\n",
        "        \"nama\":\"Asih\",\n",
        "        \"Tanggal Lahir\": 20022000\n",
        "    }\n",
        "}\n",
        "\n",
        "print(Keluarga_afif)"
      ],
      "execution_count": 31,
      "outputs": [
        {
          "output_type": "stream",
          "text": [
            "{'anak1': {'nama': 'dera', 'Tanggal Lahir': 19012000}, 'anak2': {'nama': 'Joko', 'Tanggal Lahir': 17091997}, 'anak3': {'nama': 'Asih', 'Tanggal Lahir': 20022000}}\n"
          ],
          "name": "stdout"
        }
      ]
    },
    {
      "cell_type": "markdown",
      "metadata": {
        "id": "R43exLqhJpmv"
      },
      "source": [
        "Kita akan membuat suatu Kamus yang akan berisi 3 kamus lainnya"
      ]
    },
    {
      "cell_type": "code",
      "metadata": {
        "id": "SV-t3qX-Jz7P",
        "colab": {
          "base_uri": "https://localhost:8080/"
        },
        "outputId": "8e155b0e-706f-4ca1-ccbe-b814cb8cd569"
      },
      "source": [
        "anak1={\"nama\":\"Rikma\",\"Tanggal Lahir\":19012000}\n",
        "anak2={\"nama\":\"Joko\",\"Tanggal Lahir\":17091997}\n",
        "anak3={\"nama\":\"Asih\",\"Tanggal Lahir\":20022000}\n",
        "\n",
        "Keluarga_afif={\"anak1\":anak1,\"anak2\":anak2,\"anak3\":anak3}\n",
        "print(Keluarga_afif)"
      ],
      "execution_count": 33,
      "outputs": [
        {
          "output_type": "stream",
          "text": [
            "{'anak1': {'nama': 'Rikma', 'Tanggal Lahir': 19012000}, 'anak2': {'nama': 'Joko', 'Tanggal Lahir': 17091997}, 'anak3': {'nama': 'Asih', 'Tanggal Lahir': 20022000}}\n"
          ],
          "name": "stdout"
        }
      ]
    },
    {
      "cell_type": "markdown",
      "metadata": {
        "id": "rn1_pOZ3J5Z2"
      },
      "source": [
        "Atau kita juga dapat menggunakan fungsi dict() untuk membuat kamus yang baru"
      ]
    },
    {
      "cell_type": "code",
      "metadata": {
        "id": "_Iuj4TapKq3j",
        "colab": {
          "base_uri": "https://localhost:8080/",
          "height": 195
        },
        "outputId": "caf25bc6-6c45-45be-99b5-2e74871ff2e9"
      },
      "source": [
        "Indoapril=dict(barang='Minuman',merek='BearBrand',harga=7000)\n",
        "#Perlu di perhatikan  bahwa dalam fungsi dict() kita tidak lagi memakai kolon (:) tetapi menggunakan sama dengan (=)\n",
        "print(Indoapril)"
      ],
      "execution_count": 34,
      "outputs": [
        {
          "output_type": "error",
          "ename": "TypeError",
          "evalue": "ignored",
          "traceback": [
            "\u001b[0;31m---------------------------------------------------------------------------\u001b[0m",
            "\u001b[0;31mTypeError\u001b[0m                                 Traceback (most recent call last)",
            "\u001b[0;32m<ipython-input-34-43f89556dadf>\u001b[0m in \u001b[0;36m<module>\u001b[0;34m()\u001b[0m\n\u001b[0;32m----> 1\u001b[0;31m \u001b[0mIndoapril\u001b[0m\u001b[0;34m=\u001b[0m\u001b[0mdict\u001b[0m\u001b[0;34m(\u001b[0m\u001b[0mbarang\u001b[0m\u001b[0;34m=\u001b[0m\u001b[0;34m'Minuman'\u001b[0m\u001b[0;34m,\u001b[0m\u001b[0mmerek\u001b[0m\u001b[0;34m=\u001b[0m\u001b[0;34m'BearBrand'\u001b[0m\u001b[0;34m,\u001b[0m\u001b[0mharga\u001b[0m\u001b[0;34m=\u001b[0m\u001b[0;36m7000\u001b[0m\u001b[0;34m)\u001b[0m\u001b[0;34m\u001b[0m\u001b[0;34m\u001b[0m\u001b[0m\n\u001b[0m\u001b[1;32m      2\u001b[0m \u001b[0;31m#Perlu di perhatikan  bahwa dalam fungsi dict() kita tidak lagi memakai kolon (:) tetapi menggunakan sama dengan (=)\u001b[0m\u001b[0;34m\u001b[0m\u001b[0;34m\u001b[0m\u001b[0;34m\u001b[0m\u001b[0m\n\u001b[1;32m      3\u001b[0m \u001b[0mprint\u001b[0m\u001b[0;34m(\u001b[0m\u001b[0mIndoapril\u001b[0m\u001b[0;34m)\u001b[0m\u001b[0;34m\u001b[0m\u001b[0;34m\u001b[0m\u001b[0m\n",
            "\u001b[0;31mTypeError\u001b[0m: 'dict' object is not callable"
          ]
        }
      ]
    },
    {
      "cell_type": "markdown",
      "metadata": {
        "id": "hqro2QmYG3pA"
      },
      "source": [
        "Paham belum nih tentang materi nested dictionary, coba sekarang kalian buat dan pahami, nanti pasti paham kalo udah nyoba ;)"
      ]
    },
    {
      "cell_type": "code",
      "metadata": {
        "id": "D9WDIcsaPysc",
        "colab": {
          "base_uri": "https://localhost:8080/"
        },
        "outputId": "aeedd611-ad6d-4a5d-bc56-c59fd0ed779b"
      },
      "source": [
        "#Nested dictionary\n",
        "ICPB={\n",
        "    \"Indofood\":{\n",
        "        \"barang\":\"Tepung\",\n",
        "        \"merk\": \"Lencana Merah\",\n",
        "        \"Expired\" : 21032024\n",
        "    },\n",
        "    \"indocare\":{\n",
        "        \"barang\":\"Suplemen\",\n",
        "        \"merk\": \"Nutracare\",\n",
        "        \"Expired\" : 23092021 \n",
        "    },\n",
        "    \"indosnack\":{\n",
        "        \"barang\":\"snack\",\n",
        "        \"merk\": \"Jetz\",\n",
        "        \"Expired\" : 20052025\n",
        "    }\n",
        "}\n",
        "\n",
        "print(ICPB)"
      ],
      "execution_count": 35,
      "outputs": [
        {
          "output_type": "stream",
          "text": [
            "{'Indofood': {'barang': 'Tepung', 'merk': 'Lencana Merah', 'Expired': 21032024}, 'indocare': {'barang': 'Suplemen', 'merk': 'Nutracare', 'Expired': 23092021}, 'indosnack': {'barang': 'snack', 'merk': 'Jetz', 'Expired': 20052025}}\n"
          ],
          "name": "stdout"
        }
      ]
    },
    {
      "cell_type": "markdown",
      "metadata": {
        "id": "PP7KHpy-ymYq"
      },
      "source": [
        "\n",
        "\n",
        "---\n",
        "\n",
        "\n",
        "#**Berbagai Method untuk Dictionary**\n",
        "\n",
        "---\n",
        "\n"
      ]
    },
    {
      "cell_type": "markdown",
      "metadata": {
        "id": "hzM9fg8rILk9"
      },
      "source": [
        "- clear() : Menghapus semua elemen dictionary\n",
        "- copy() : Mengembalikan salinan dictionary\n",
        "- fromkeys() : Buat Dictionary baru dengan kunci dari seq dan nilai yang disetel ke nilai.\n",
        "- get() : Mengembalikan nilai dari kunci yang ditentukan\n",
        "- items() : Mengembalikan daftar dari pasangan tuple dictionary (key, value)\n",
        "- keys() : Mengembalikan daftar key dictionary\n",
        "- pop() : Menghapus item kunci yang disebutkan\n",
        "- popitem() : Menghapus item yang terakhir dimasukkan\n",
        "- setdefault() : Mengembalikan nilai dari kunci yang ditentukan. Jika kunci tidak ada: masukkan kunci dengan nilai yang ditentukan\n",
        "- update() : Menambah pasangan kunci yang diinginkan\n",
        "- values() : Mengembalikan daftar nilai dictionary"
      ]
    },
    {
      "cell_type": "markdown",
      "metadata": {
        "id": "Sacny0IzM1xc"
      },
      "source": [
        "## Clear()\n",
        "Untuk menghapus semua item/elemen yang termuat didalam dictionary, gunakan fungsi **clear()**\n",
        "\n",
        "dictionary.clear\n",
        "\n",
        "print(dictionary)"
      ]
    },
    {
      "cell_type": "code",
      "metadata": {
        "id": "aDt2u6E1OJK-",
        "colab": {
          "base_uri": "https://localhost:8080/"
        },
        "outputId": "21b996b5-d879-4b39-d2f0-d92cab90db1e"
      },
      "source": [
        "dict= {'Universitas' : 'UAD' , 'Prodi' : 'Matematika' , 'Tahun' : 2018 , 1800015065 : 'NIM'}\n",
        "dict.clear()\n",
        "print(dict)"
      ],
      "execution_count": 36,
      "outputs": [
        {
          "output_type": "stream",
          "text": [
            "{}\n"
          ],
          "name": "stdout"
        }
      ]
    },
    {
      "cell_type": "markdown",
      "metadata": {
        "id": "_AGp8ZqbMnws"
      },
      "source": [
        "## Copy()\n",
        "Untuk mengcopy/menyalin item didalam dictionary, bisa digunakan fungsi **copy()**"
      ]
    },
    {
      "cell_type": "code",
      "metadata": {
        "id": "56NFeeSSNOVo",
        "colab": {
          "base_uri": "https://localhost:8080/"
        },
        "outputId": "a7b867c2-eb4b-4570-ae40-f4e2bb8339b1"
      },
      "source": [
        "dict= {'Universitas' : 'UAD' , 'Prodi' : 'Matematika' , 'Tahun' : 2018 , 1800015065 : 'NIM'}\n",
        "C=dict.copy()\n",
        "print(C)"
      ],
      "execution_count": 37,
      "outputs": [
        {
          "output_type": "stream",
          "text": [
            "{'Universitas': 'UAD', 'Prodi': 'Matematika', 'Tahun': 2018, 1800015065: 'NIM'}\n"
          ],
          "name": "stdout"
        }
      ]
    },
    {
      "cell_type": "markdown",
      "metadata": {
        "id": "Z6XDDzg2NyZ9"
      },
      "source": [
        "##Fromkeys()\n",
        "Untuk menyalin elemen di dalam dictionary, namun dengan kunci(key) dan nilai(value) tertentu, dapat menggunakan fungsi **fromkeys()**\n",
        "\n"
      ]
    },
    {
      "cell_type": "code",
      "metadata": {
        "id": "_KqfaOR_OUCc",
        "colab": {
          "base_uri": "https://localhost:8080/"
        },
        "outputId": "79fd6658-c051-4cba-e31e-c5b6d6fb516d"
      },
      "source": [
        "dict= {'Universitas' : 'UAD' , 'Prodi' : 'Matematika' , 'Tahun' : 2018 , 1800015065 : 'NIM'}\n",
        "x = ('Universitas', 'Prodi')\n",
        "y = 0\n",
        "\n",
        "thisdict = dict.fromkeys(x, y)\n",
        "\n",
        "print(thisdict)"
      ],
      "execution_count": 38,
      "outputs": [
        {
          "output_type": "stream",
          "text": [
            "{'Universitas': 0, 'Prodi': 0}\n"
          ],
          "name": "stdout"
        }
      ]
    },
    {
      "cell_type": "markdown",
      "metadata": {
        "id": "nl9ZkUY4gDRJ"
      },
      "source": [
        "## Get()"
      ]
    },
    {
      "cell_type": "code",
      "metadata": {
        "id": "u8CbPd6igFW9",
        "colab": {
          "base_uri": "https://localhost:8080/"
        },
        "outputId": "b72d4254-7e92-4a98-d98a-47c9e30876c9"
      },
      "source": [
        "car =\t{\n",
        "  \"brand\": \"Ford\",\n",
        "  \"model\": \"Mustang\",\n",
        "  \"year\": 1964\n",
        "}\n",
        "\n",
        "print(car.get('model'))"
      ],
      "execution_count": 39,
      "outputs": [
        {
          "output_type": "stream",
          "text": [
            "Mustang\n"
          ],
          "name": "stdout"
        }
      ]
    },
    {
      "cell_type": "markdown",
      "metadata": {
        "id": "IfzbaW4lgWTa"
      },
      "source": [
        "##Items()"
      ]
    },
    {
      "cell_type": "code",
      "metadata": {
        "id": "gn_kNd6lgYlv",
        "colab": {
          "base_uri": "https://localhost:8080/"
        },
        "outputId": "238c9f0e-4a30-468b-f5f5-be9d51366e3d"
      },
      "source": [
        "car =\t{\n",
        "  \"brand\": \"Ford\",\n",
        "  \"model\": \"Mustang\",\n",
        "  \"year\": 1964\n",
        "}\n",
        "\n",
        "print(car.items())"
      ],
      "execution_count": 40,
      "outputs": [
        {
          "output_type": "stream",
          "text": [
            "dict_items([('brand', 'Ford'), ('model', 'Mustang'), ('year', 1964)])\n"
          ],
          "name": "stdout"
        }
      ]
    },
    {
      "cell_type": "markdown",
      "metadata": {
        "id": "SAp7WXAbU5Fn"
      },
      "source": [
        "##Pop()\n",
        "\n",
        "Menghapus item kunci sekaligus value yang disebutkan,mari kita lihat contohnya dibawah ini"
      ]
    },
    {
      "cell_type": "code",
      "metadata": {
        "id": "Rt8xRNXcVsSE",
        "colab": {
          "base_uri": "https://localhost:8080/"
        },
        "outputId": "0cd5fb74-db66-45c5-fe23-41c6a1254d03"
      },
      "source": [
        "indoapril={'Barang':'Gundam','Merek':'Bandai','Jumlah':200}\n",
        "indoapril.pop('Barang')\n",
        "print(indoapril)"
      ],
      "execution_count": 41,
      "outputs": [
        {
          "output_type": "stream",
          "text": [
            "{'Merek': 'Bandai', 'Jumlah': 200}\n"
          ],
          "name": "stdout"
        }
      ]
    },
    {
      "cell_type": "markdown",
      "metadata": {
        "id": "8VTYZPHvWphG"
      },
      "source": [
        "## Popitem()\n",
        "\n",
        "Menghapus item yang terakhir dimasukkan "
      ]
    },
    {
      "cell_type": "code",
      "metadata": {
        "id": "7Ko__9YSW0d3",
        "colab": {
          "base_uri": "https://localhost:8080/"
        },
        "outputId": "f2275935-68c1-4347-be29-b9d0bfc35bda"
      },
      "source": [
        "#Kita akan menghilangkan pelakor dalam \"kehidupan_keluarga\"\n",
        "kehidupan_keluarga={'suami':'Budi','istri':'Dewi','pelakor':'Sari'}\n",
        "kehidupan_keluarga.popitem()\n",
        "print(kehidupan_keluarga)"
      ],
      "execution_count": 42,
      "outputs": [
        {
          "output_type": "stream",
          "text": [
            "{'suami': 'Budi', 'istri': 'Dewi'}\n"
          ],
          "name": "stdout"
        }
      ]
    },
    {
      "cell_type": "markdown",
      "metadata": {
        "id": "-Pa2ANcmYqn3"
      },
      "source": [
        "## Update()\n",
        "\n",
        "Menambahkan pasangan kunci yang diinginkan"
      ]
    },
    {
      "cell_type": "code",
      "metadata": {
        "id": "fGDs07Z5ZDTH",
        "colab": {
          "base_uri": "https://localhost:8080/"
        },
        "outputId": "aab2d649-cd7b-47c0-9016-510a1b23eb85"
      },
      "source": [
        "indoapril={'Barang':'Gundam','Merek':'Bandai','Jumlah':2000}\n",
        "indoapril.update({'Tanggal_Masuk': 12022020})\n",
        "print(indoapril)"
      ],
      "execution_count": 43,
      "outputs": [
        {
          "output_type": "stream",
          "text": [
            "{'Barang': 'Gundam', 'Merek': 'Bandai', 'Jumlah': 2000, 'Tanggal_Masuk': 12022020}\n"
          ],
          "name": "stdout"
        }
      ]
    },
    {
      "cell_type": "markdown",
      "metadata": {
        "id": "Ezf7B8N5b0n9"
      },
      "source": [
        "## Values()\n",
        "\n",
        "Mengembalikan daftar nilai pada dictionary\n"
      ]
    },
    {
      "cell_type": "code",
      "metadata": {
        "id": "ka70siM6dsPq",
        "colab": {
          "base_uri": "https://localhost:8080/"
        },
        "outputId": "45fd6039-669f-4c31-fa17-a4257cf553c1"
      },
      "source": [
        "indoapril={'Barang':'Gundam','Merek':'Bandai','Jumlah':200}\n",
        "a=indoapril.values()\n",
        "print(a)"
      ],
      "execution_count": 44,
      "outputs": [
        {
          "output_type": "stream",
          "text": [
            "dict_values(['Gundam', 'Bandai', 200])\n"
          ],
          "name": "stdout"
        }
      ]
    },
    {
      "cell_type": "markdown",
      "metadata": {
        "id": "SrenDDAWgr7Z"
      },
      "source": [
        "## len()"
      ]
    },
    {
      "cell_type": "markdown",
      "metadata": {
        "id": "R_W396Mng7-8"
      },
      "source": [
        "Method len digunakan untuk mengetahui banyaknya item yang ada pada directory"
      ]
    },
    {
      "cell_type": "code",
      "metadata": {
        "id": "18YplPaigxog",
        "colab": {
          "base_uri": "https://localhost:8080/"
        },
        "outputId": "0751f7e7-c6ae-4389-cf27-d03705066a33"
      },
      "source": [
        "car =\t{\n",
        "  \"brand\": \"Ford\",\n",
        "  \"model\": \"Mustang\",\n",
        "  \"year\": 1964\n",
        "}\n",
        "\n",
        "print(len(car))"
      ],
      "execution_count": 45,
      "outputs": [
        {
          "output_type": "stream",
          "text": [
            "3\n"
          ],
          "name": "stdout"
        }
      ]
    },
    {
      "cell_type": "markdown",
      "metadata": {
        "id": "Wp4TnoFGQabX"
      },
      "source": [
        "#The End Of Notebook\n",
        "\n",
        "Alhamdulillah"
      ]
    }
  ]
}